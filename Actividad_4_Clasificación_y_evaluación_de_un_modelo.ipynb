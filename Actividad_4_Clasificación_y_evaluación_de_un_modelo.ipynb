{
  "nbformat": 4,
  "nbformat_minor": 0,
  "metadata": {
    "colab": {
      "provenance": [],
      "collapsed_sections": [
        "c6qPhq_ypK-s",
        "CJ4YnTRCqVd4",
        "_g2XwE8Pqr-l",
        "BXRdQfr684pG",
        "4DbNuPMbNXqb",
        "24FsiMTlNdG5",
        "j6CmOReF9I33",
        "U4zx1chuNz-Y",
        "SupOJllQOcoH",
        "k0tPF5XfOy3t",
        "aMrdLHImCE4_",
        "hk4F8HtFGBEq",
        "TOjdiNFi9Veo",
        "E46sxUds8SGf",
        "ZwJ3sjkN8d1Y",
        "cjrLPdFI84SO",
        "DGlDoUCI9Iwx",
        "I6e2MkIiBoNT",
        "5xq9d8MjFjNy",
        "xZw3XYxn_X8Y",
        "7ms4LJZyAuF2",
        "rI5PHV5qHIlV"
      ]
    },
    "kernelspec": {
      "name": "python3",
      "display_name": "Python 3"
    },
    "language_info": {
      "name": "python"
    }
  },
  "cells": [
    {
      "cell_type": "markdown",
      "source": [
        "# Ethan Enrique Verduzco Pérez | A01066955"
      ],
      "metadata": {
        "id": "yRhjuTe2oXDT"
      }
    },
    {
      "cell_type": "code",
      "execution_count": 1,
      "metadata": {
        "id": "Y-JRGSYwoTHo"
      },
      "outputs": [],
      "source": [
        "import pandas as pd\n",
        "import numpy as np\n",
        "from sklearn.cluster import KMeans\n",
        "from sklearn.decomposition import PCA\n",
        "import seaborn as sns\n",
        "import matplotlib.pyplot as plt\n",
        "from sklearn import preprocessing\n",
        "from sklearn.preprocessing import MinMaxScaler\n",
        "from sklearn.tree import DecisionTreeClassifier\n",
        "from sklearn.model_selection import train_test_split\n",
        "from sklearn import metrics\n",
        "from sklearn.metrics import confusion_matrix\n",
        "from sklearn.metrics import roc_curve\n",
        "from sklearn.model_selection import KFold\n",
        "from sklearn.svm import SVR\n",
        "from sklearn.tree import export_graphviz\n",
        "from six import StringIO\n",
        "from IPython.display import Image\n",
        "import pydotplus"
      ]
    },
    {
      "cell_type": "code",
      "source": [
        "from sklearn.model_selection import cross_validate\n",
        "def cross_validation(model, _X, _y, _cv=5):\n",
        "     \n",
        "      _scoring = ['accuracy', 'precision', 'recall', 'f1']\n",
        "      results = cross_validate(estimator=model,\n",
        "                               X=_X,\n",
        "                               y=_y,\n",
        "                               cv=_cv,\n",
        "                               scoring=_scoring,\n",
        "                               return_train_score=True)\n",
        "      \n",
        "      return {\"Training Accuracy scores\": results['train_accuracy'],\n",
        "              \"Mean Training Accuracy\": results['train_accuracy'].mean()*100,\n",
        "              \"Training Precision scores\": results['train_precision'],\n",
        "              \"Mean Training Precision\": results['train_precision'].mean(),\n",
        "              \"Training Recall scores\": results['train_recall'],\n",
        "              \"Mean Training Recall\": results['train_recall'].mean(),\n",
        "              \"Training F1 scores\": results['train_f1'],\n",
        "              \"Mean Training F1 Score\": results['train_f1'].mean(),\n",
        "              \"Validation Accuracy scores\": results['test_accuracy'],\n",
        "              \"Mean Validation Accuracy\": results['test_accuracy'].mean()*100,\n",
        "              \"Validation Precision scores\": results['test_precision'],\n",
        "              \"Mean Validation Precision\": results['test_precision'].mean(),\n",
        "              \"Validation Recall scores\": results['test_recall'],\n",
        "              \"Mean Validation Recall\": results['test_recall'].mean(),\n",
        "              \"Validation F1 scores\": results['test_f1'],\n",
        "              \"Mean Validation F1 Score\": results['test_f1'].mean()\n",
        "              }\n",
        "\n",
        " # Función obtenida de \n",
        " # https://www.section.io/engineering-education/how-to-implement-k-fold-cross-validation/             "
      ],
      "metadata": {
        "id": "Ek1PAOw1EosW"
      },
      "execution_count": 2,
      "outputs": []
    },
    {
      "cell_type": "markdown",
      "source": [
        "## Datos"
      ],
      "metadata": {
        "id": "c6qPhq_ypK-s"
      }
    },
    {
      "cell_type": "code",
      "source": [
        "df = pd.read_csv('/content/water_potability (1).csv')"
      ],
      "metadata": {
        "id": "_42VM3Xvofc9"
      },
      "execution_count": 3,
      "outputs": []
    },
    {
      "cell_type": "code",
      "source": [
        "df.head(5)"
      ],
      "metadata": {
        "colab": {
          "base_uri": "https://localhost:8080/",
          "height": 206
        },
        "id": "7xAbpZRepNm4",
        "outputId": "5e5cac3f-f3f5-4a73-d69e-e53f39026fb2"
      },
      "execution_count": 4,
      "outputs": [
        {
          "output_type": "execute_result",
          "data": {
            "text/plain": [
              "         ph    Hardness        Solids  Chloramines     Sulfate  Conductivity  \\\n",
              "0       NaN  204.890455  20791.318981     7.300212  368.516441    564.308654   \n",
              "1  3.716080  129.422921  18630.057858     6.635246         NaN    592.885359   \n",
              "2  8.099124  224.236259  19909.541732     9.275884         NaN    418.606213   \n",
              "3  8.316766  214.373394  22018.417441     8.059332  356.886136    363.266516   \n",
              "4  9.092223  181.101509  17978.986339     6.546600  310.135738    398.410813   \n",
              "\n",
              "   Organic_carbon  Trihalomethanes  Turbidity  Potability  \n",
              "0       10.379783        86.990970   2.963135           0  \n",
              "1       15.180013        56.329076   4.500656           0  \n",
              "2       16.868637        66.420093   3.055934           0  \n",
              "3       18.436524       100.341674   4.628771           0  \n",
              "4       11.558279        31.997993   4.075075           0  "
            ],
            "text/html": [
              "\n",
              "  <div id=\"df-05b7bc19-bc5c-4878-81f8-7f26f98bae86\">\n",
              "    <div class=\"colab-df-container\">\n",
              "      <div>\n",
              "<style scoped>\n",
              "    .dataframe tbody tr th:only-of-type {\n",
              "        vertical-align: middle;\n",
              "    }\n",
              "\n",
              "    .dataframe tbody tr th {\n",
              "        vertical-align: top;\n",
              "    }\n",
              "\n",
              "    .dataframe thead th {\n",
              "        text-align: right;\n",
              "    }\n",
              "</style>\n",
              "<table border=\"1\" class=\"dataframe\">\n",
              "  <thead>\n",
              "    <tr style=\"text-align: right;\">\n",
              "      <th></th>\n",
              "      <th>ph</th>\n",
              "      <th>Hardness</th>\n",
              "      <th>Solids</th>\n",
              "      <th>Chloramines</th>\n",
              "      <th>Sulfate</th>\n",
              "      <th>Conductivity</th>\n",
              "      <th>Organic_carbon</th>\n",
              "      <th>Trihalomethanes</th>\n",
              "      <th>Turbidity</th>\n",
              "      <th>Potability</th>\n",
              "    </tr>\n",
              "  </thead>\n",
              "  <tbody>\n",
              "    <tr>\n",
              "      <th>0</th>\n",
              "      <td>NaN</td>\n",
              "      <td>204.890455</td>\n",
              "      <td>20791.318981</td>\n",
              "      <td>7.300212</td>\n",
              "      <td>368.516441</td>\n",
              "      <td>564.308654</td>\n",
              "      <td>10.379783</td>\n",
              "      <td>86.990970</td>\n",
              "      <td>2.963135</td>\n",
              "      <td>0</td>\n",
              "    </tr>\n",
              "    <tr>\n",
              "      <th>1</th>\n",
              "      <td>3.716080</td>\n",
              "      <td>129.422921</td>\n",
              "      <td>18630.057858</td>\n",
              "      <td>6.635246</td>\n",
              "      <td>NaN</td>\n",
              "      <td>592.885359</td>\n",
              "      <td>15.180013</td>\n",
              "      <td>56.329076</td>\n",
              "      <td>4.500656</td>\n",
              "      <td>0</td>\n",
              "    </tr>\n",
              "    <tr>\n",
              "      <th>2</th>\n",
              "      <td>8.099124</td>\n",
              "      <td>224.236259</td>\n",
              "      <td>19909.541732</td>\n",
              "      <td>9.275884</td>\n",
              "      <td>NaN</td>\n",
              "      <td>418.606213</td>\n",
              "      <td>16.868637</td>\n",
              "      <td>66.420093</td>\n",
              "      <td>3.055934</td>\n",
              "      <td>0</td>\n",
              "    </tr>\n",
              "    <tr>\n",
              "      <th>3</th>\n",
              "      <td>8.316766</td>\n",
              "      <td>214.373394</td>\n",
              "      <td>22018.417441</td>\n",
              "      <td>8.059332</td>\n",
              "      <td>356.886136</td>\n",
              "      <td>363.266516</td>\n",
              "      <td>18.436524</td>\n",
              "      <td>100.341674</td>\n",
              "      <td>4.628771</td>\n",
              "      <td>0</td>\n",
              "    </tr>\n",
              "    <tr>\n",
              "      <th>4</th>\n",
              "      <td>9.092223</td>\n",
              "      <td>181.101509</td>\n",
              "      <td>17978.986339</td>\n",
              "      <td>6.546600</td>\n",
              "      <td>310.135738</td>\n",
              "      <td>398.410813</td>\n",
              "      <td>11.558279</td>\n",
              "      <td>31.997993</td>\n",
              "      <td>4.075075</td>\n",
              "      <td>0</td>\n",
              "    </tr>\n",
              "  </tbody>\n",
              "</table>\n",
              "</div>\n",
              "      <button class=\"colab-df-convert\" onclick=\"convertToInteractive('df-05b7bc19-bc5c-4878-81f8-7f26f98bae86')\"\n",
              "              title=\"Convert this dataframe to an interactive table.\"\n",
              "              style=\"display:none;\">\n",
              "        \n",
              "  <svg xmlns=\"http://www.w3.org/2000/svg\" height=\"24px\"viewBox=\"0 0 24 24\"\n",
              "       width=\"24px\">\n",
              "    <path d=\"M0 0h24v24H0V0z\" fill=\"none\"/>\n",
              "    <path d=\"M18.56 5.44l.94 2.06.94-2.06 2.06-.94-2.06-.94-.94-2.06-.94 2.06-2.06.94zm-11 1L8.5 8.5l.94-2.06 2.06-.94-2.06-.94L8.5 2.5l-.94 2.06-2.06.94zm10 10l.94 2.06.94-2.06 2.06-.94-2.06-.94-.94-2.06-.94 2.06-2.06.94z\"/><path d=\"M17.41 7.96l-1.37-1.37c-.4-.4-.92-.59-1.43-.59-.52 0-1.04.2-1.43.59L10.3 9.45l-7.72 7.72c-.78.78-.78 2.05 0 2.83L4 21.41c.39.39.9.59 1.41.59.51 0 1.02-.2 1.41-.59l7.78-7.78 2.81-2.81c.8-.78.8-2.07 0-2.86zM5.41 20L4 18.59l7.72-7.72 1.47 1.35L5.41 20z\"/>\n",
              "  </svg>\n",
              "      </button>\n",
              "      \n",
              "  <style>\n",
              "    .colab-df-container {\n",
              "      display:flex;\n",
              "      flex-wrap:wrap;\n",
              "      gap: 12px;\n",
              "    }\n",
              "\n",
              "    .colab-df-convert {\n",
              "      background-color: #E8F0FE;\n",
              "      border: none;\n",
              "      border-radius: 50%;\n",
              "      cursor: pointer;\n",
              "      display: none;\n",
              "      fill: #1967D2;\n",
              "      height: 32px;\n",
              "      padding: 0 0 0 0;\n",
              "      width: 32px;\n",
              "    }\n",
              "\n",
              "    .colab-df-convert:hover {\n",
              "      background-color: #E2EBFA;\n",
              "      box-shadow: 0px 1px 2px rgba(60, 64, 67, 0.3), 0px 1px 3px 1px rgba(60, 64, 67, 0.15);\n",
              "      fill: #174EA6;\n",
              "    }\n",
              "\n",
              "    [theme=dark] .colab-df-convert {\n",
              "      background-color: #3B4455;\n",
              "      fill: #D2E3FC;\n",
              "    }\n",
              "\n",
              "    [theme=dark] .colab-df-convert:hover {\n",
              "      background-color: #434B5C;\n",
              "      box-shadow: 0px 1px 3px 1px rgba(0, 0, 0, 0.15);\n",
              "      filter: drop-shadow(0px 1px 2px rgba(0, 0, 0, 0.3));\n",
              "      fill: #FFFFFF;\n",
              "    }\n",
              "  </style>\n",
              "\n",
              "      <script>\n",
              "        const buttonEl =\n",
              "          document.querySelector('#df-05b7bc19-bc5c-4878-81f8-7f26f98bae86 button.colab-df-convert');\n",
              "        buttonEl.style.display =\n",
              "          google.colab.kernel.accessAllowed ? 'block' : 'none';\n",
              "\n",
              "        async function convertToInteractive(key) {\n",
              "          const element = document.querySelector('#df-05b7bc19-bc5c-4878-81f8-7f26f98bae86');\n",
              "          const dataTable =\n",
              "            await google.colab.kernel.invokeFunction('convertToInteractive',\n",
              "                                                     [key], {});\n",
              "          if (!dataTable) return;\n",
              "\n",
              "          const docLinkHtml = 'Like what you see? Visit the ' +\n",
              "            '<a target=\"_blank\" href=https://colab.research.google.com/notebooks/data_table.ipynb>data table notebook</a>'\n",
              "            + ' to learn more about interactive tables.';\n",
              "          element.innerHTML = '';\n",
              "          dataTable['output_type'] = 'display_data';\n",
              "          await google.colab.output.renderOutput(dataTable, element);\n",
              "          const docLink = document.createElement('div');\n",
              "          docLink.innerHTML = docLinkHtml;\n",
              "          element.appendChild(docLink);\n",
              "        }\n",
              "      </script>\n",
              "    </div>\n",
              "  </div>\n",
              "  "
            ]
          },
          "metadata": {},
          "execution_count": 4
        }
      ]
    },
    {
      "cell_type": "code",
      "source": [
        "df.describe()"
      ],
      "metadata": {
        "colab": {
          "base_uri": "https://localhost:8080/",
          "height": 300
        },
        "id": "fNAx3-SUqLjO",
        "outputId": "860919b5-7733-456b-f826-ad9c886d6545"
      },
      "execution_count": 5,
      "outputs": [
        {
          "output_type": "execute_result",
          "data": {
            "text/plain": [
              "                ph     Hardness        Solids  Chloramines      Sulfate  \\\n",
              "count  2785.000000  3276.000000   3276.000000  3276.000000  2495.000000   \n",
              "mean      7.080795   196.369496  22014.092526     7.122277   333.775777   \n",
              "std       1.594320    32.879761   8768.570828     1.583085    41.416840   \n",
              "min       0.000000    47.432000    320.942611     0.352000   129.000000   \n",
              "25%       6.093092   176.850538  15666.690297     6.127421   307.699498   \n",
              "50%       7.036752   196.967627  20927.833607     7.130299   333.073546   \n",
              "75%       8.062066   216.667456  27332.762127     8.114887   359.950170   \n",
              "max      14.000000   323.124000  61227.196008    13.127000   481.030642   \n",
              "\n",
              "       Conductivity  Organic_carbon  Trihalomethanes    Turbidity   Potability  \n",
              "count   3276.000000     3276.000000      3114.000000  3276.000000  3276.000000  \n",
              "mean     426.205111       14.284970        66.396293     3.966786     0.390110  \n",
              "std       80.824064        3.308162        16.175008     0.780382     0.487849  \n",
              "min      181.483754        2.200000         0.738000     1.450000     0.000000  \n",
              "25%      365.734414       12.065801        55.844536     3.439711     0.000000  \n",
              "50%      421.884968       14.218338        66.622485     3.955028     0.000000  \n",
              "75%      481.792304       16.557652        77.337473     4.500320     1.000000  \n",
              "max      753.342620       28.300000       124.000000     6.739000     1.000000  "
            ],
            "text/html": [
              "\n",
              "  <div id=\"df-32521653-b250-4858-ac73-9554c397f1d8\">\n",
              "    <div class=\"colab-df-container\">\n",
              "      <div>\n",
              "<style scoped>\n",
              "    .dataframe tbody tr th:only-of-type {\n",
              "        vertical-align: middle;\n",
              "    }\n",
              "\n",
              "    .dataframe tbody tr th {\n",
              "        vertical-align: top;\n",
              "    }\n",
              "\n",
              "    .dataframe thead th {\n",
              "        text-align: right;\n",
              "    }\n",
              "</style>\n",
              "<table border=\"1\" class=\"dataframe\">\n",
              "  <thead>\n",
              "    <tr style=\"text-align: right;\">\n",
              "      <th></th>\n",
              "      <th>ph</th>\n",
              "      <th>Hardness</th>\n",
              "      <th>Solids</th>\n",
              "      <th>Chloramines</th>\n",
              "      <th>Sulfate</th>\n",
              "      <th>Conductivity</th>\n",
              "      <th>Organic_carbon</th>\n",
              "      <th>Trihalomethanes</th>\n",
              "      <th>Turbidity</th>\n",
              "      <th>Potability</th>\n",
              "    </tr>\n",
              "  </thead>\n",
              "  <tbody>\n",
              "    <tr>\n",
              "      <th>count</th>\n",
              "      <td>2785.000000</td>\n",
              "      <td>3276.000000</td>\n",
              "      <td>3276.000000</td>\n",
              "      <td>3276.000000</td>\n",
              "      <td>2495.000000</td>\n",
              "      <td>3276.000000</td>\n",
              "      <td>3276.000000</td>\n",
              "      <td>3114.000000</td>\n",
              "      <td>3276.000000</td>\n",
              "      <td>3276.000000</td>\n",
              "    </tr>\n",
              "    <tr>\n",
              "      <th>mean</th>\n",
              "      <td>7.080795</td>\n",
              "      <td>196.369496</td>\n",
              "      <td>22014.092526</td>\n",
              "      <td>7.122277</td>\n",
              "      <td>333.775777</td>\n",
              "      <td>426.205111</td>\n",
              "      <td>14.284970</td>\n",
              "      <td>66.396293</td>\n",
              "      <td>3.966786</td>\n",
              "      <td>0.390110</td>\n",
              "    </tr>\n",
              "    <tr>\n",
              "      <th>std</th>\n",
              "      <td>1.594320</td>\n",
              "      <td>32.879761</td>\n",
              "      <td>8768.570828</td>\n",
              "      <td>1.583085</td>\n",
              "      <td>41.416840</td>\n",
              "      <td>80.824064</td>\n",
              "      <td>3.308162</td>\n",
              "      <td>16.175008</td>\n",
              "      <td>0.780382</td>\n",
              "      <td>0.487849</td>\n",
              "    </tr>\n",
              "    <tr>\n",
              "      <th>min</th>\n",
              "      <td>0.000000</td>\n",
              "      <td>47.432000</td>\n",
              "      <td>320.942611</td>\n",
              "      <td>0.352000</td>\n",
              "      <td>129.000000</td>\n",
              "      <td>181.483754</td>\n",
              "      <td>2.200000</td>\n",
              "      <td>0.738000</td>\n",
              "      <td>1.450000</td>\n",
              "      <td>0.000000</td>\n",
              "    </tr>\n",
              "    <tr>\n",
              "      <th>25%</th>\n",
              "      <td>6.093092</td>\n",
              "      <td>176.850538</td>\n",
              "      <td>15666.690297</td>\n",
              "      <td>6.127421</td>\n",
              "      <td>307.699498</td>\n",
              "      <td>365.734414</td>\n",
              "      <td>12.065801</td>\n",
              "      <td>55.844536</td>\n",
              "      <td>3.439711</td>\n",
              "      <td>0.000000</td>\n",
              "    </tr>\n",
              "    <tr>\n",
              "      <th>50%</th>\n",
              "      <td>7.036752</td>\n",
              "      <td>196.967627</td>\n",
              "      <td>20927.833607</td>\n",
              "      <td>7.130299</td>\n",
              "      <td>333.073546</td>\n",
              "      <td>421.884968</td>\n",
              "      <td>14.218338</td>\n",
              "      <td>66.622485</td>\n",
              "      <td>3.955028</td>\n",
              "      <td>0.000000</td>\n",
              "    </tr>\n",
              "    <tr>\n",
              "      <th>75%</th>\n",
              "      <td>8.062066</td>\n",
              "      <td>216.667456</td>\n",
              "      <td>27332.762127</td>\n",
              "      <td>8.114887</td>\n",
              "      <td>359.950170</td>\n",
              "      <td>481.792304</td>\n",
              "      <td>16.557652</td>\n",
              "      <td>77.337473</td>\n",
              "      <td>4.500320</td>\n",
              "      <td>1.000000</td>\n",
              "    </tr>\n",
              "    <tr>\n",
              "      <th>max</th>\n",
              "      <td>14.000000</td>\n",
              "      <td>323.124000</td>\n",
              "      <td>61227.196008</td>\n",
              "      <td>13.127000</td>\n",
              "      <td>481.030642</td>\n",
              "      <td>753.342620</td>\n",
              "      <td>28.300000</td>\n",
              "      <td>124.000000</td>\n",
              "      <td>6.739000</td>\n",
              "      <td>1.000000</td>\n",
              "    </tr>\n",
              "  </tbody>\n",
              "</table>\n",
              "</div>\n",
              "      <button class=\"colab-df-convert\" onclick=\"convertToInteractive('df-32521653-b250-4858-ac73-9554c397f1d8')\"\n",
              "              title=\"Convert this dataframe to an interactive table.\"\n",
              "              style=\"display:none;\">\n",
              "        \n",
              "  <svg xmlns=\"http://www.w3.org/2000/svg\" height=\"24px\"viewBox=\"0 0 24 24\"\n",
              "       width=\"24px\">\n",
              "    <path d=\"M0 0h24v24H0V0z\" fill=\"none\"/>\n",
              "    <path d=\"M18.56 5.44l.94 2.06.94-2.06 2.06-.94-2.06-.94-.94-2.06-.94 2.06-2.06.94zm-11 1L8.5 8.5l.94-2.06 2.06-.94-2.06-.94L8.5 2.5l-.94 2.06-2.06.94zm10 10l.94 2.06.94-2.06 2.06-.94-2.06-.94-.94-2.06-.94 2.06-2.06.94z\"/><path d=\"M17.41 7.96l-1.37-1.37c-.4-.4-.92-.59-1.43-.59-.52 0-1.04.2-1.43.59L10.3 9.45l-7.72 7.72c-.78.78-.78 2.05 0 2.83L4 21.41c.39.39.9.59 1.41.59.51 0 1.02-.2 1.41-.59l7.78-7.78 2.81-2.81c.8-.78.8-2.07 0-2.86zM5.41 20L4 18.59l7.72-7.72 1.47 1.35L5.41 20z\"/>\n",
              "  </svg>\n",
              "      </button>\n",
              "      \n",
              "  <style>\n",
              "    .colab-df-container {\n",
              "      display:flex;\n",
              "      flex-wrap:wrap;\n",
              "      gap: 12px;\n",
              "    }\n",
              "\n",
              "    .colab-df-convert {\n",
              "      background-color: #E8F0FE;\n",
              "      border: none;\n",
              "      border-radius: 50%;\n",
              "      cursor: pointer;\n",
              "      display: none;\n",
              "      fill: #1967D2;\n",
              "      height: 32px;\n",
              "      padding: 0 0 0 0;\n",
              "      width: 32px;\n",
              "    }\n",
              "\n",
              "    .colab-df-convert:hover {\n",
              "      background-color: #E2EBFA;\n",
              "      box-shadow: 0px 1px 2px rgba(60, 64, 67, 0.3), 0px 1px 3px 1px rgba(60, 64, 67, 0.15);\n",
              "      fill: #174EA6;\n",
              "    }\n",
              "\n",
              "    [theme=dark] .colab-df-convert {\n",
              "      background-color: #3B4455;\n",
              "      fill: #D2E3FC;\n",
              "    }\n",
              "\n",
              "    [theme=dark] .colab-df-convert:hover {\n",
              "      background-color: #434B5C;\n",
              "      box-shadow: 0px 1px 3px 1px rgba(0, 0, 0, 0.15);\n",
              "      filter: drop-shadow(0px 1px 2px rgba(0, 0, 0, 0.3));\n",
              "      fill: #FFFFFF;\n",
              "    }\n",
              "  </style>\n",
              "\n",
              "      <script>\n",
              "        const buttonEl =\n",
              "          document.querySelector('#df-32521653-b250-4858-ac73-9554c397f1d8 button.colab-df-convert');\n",
              "        buttonEl.style.display =\n",
              "          google.colab.kernel.accessAllowed ? 'block' : 'none';\n",
              "\n",
              "        async function convertToInteractive(key) {\n",
              "          const element = document.querySelector('#df-32521653-b250-4858-ac73-9554c397f1d8');\n",
              "          const dataTable =\n",
              "            await google.colab.kernel.invokeFunction('convertToInteractive',\n",
              "                                                     [key], {});\n",
              "          if (!dataTable) return;\n",
              "\n",
              "          const docLinkHtml = 'Like what you see? Visit the ' +\n",
              "            '<a target=\"_blank\" href=https://colab.research.google.com/notebooks/data_table.ipynb>data table notebook</a>'\n",
              "            + ' to learn more about interactive tables.';\n",
              "          element.innerHTML = '';\n",
              "          dataTable['output_type'] = 'display_data';\n",
              "          await google.colab.output.renderOutput(dataTable, element);\n",
              "          const docLink = document.createElement('div');\n",
              "          docLink.innerHTML = docLinkHtml;\n",
              "          element.appendChild(docLink);\n",
              "        }\n",
              "      </script>\n",
              "    </div>\n",
              "  </div>\n",
              "  "
            ]
          },
          "metadata": {},
          "execution_count": 5
        }
      ]
    },
    {
      "cell_type": "code",
      "source": [
        "df.isnull().sum()"
      ],
      "metadata": {
        "colab": {
          "base_uri": "https://localhost:8080/",
          "height": 0
        },
        "id": "3AkZF8OtqHxj",
        "outputId": "97d11e90-be00-4991-9b6e-7a8a757fd4a9"
      },
      "execution_count": 6,
      "outputs": [
        {
          "output_type": "execute_result",
          "data": {
            "text/plain": [
              "ph                 491\n",
              "Hardness             0\n",
              "Solids               0\n",
              "Chloramines          0\n",
              "Sulfate            781\n",
              "Conductivity         0\n",
              "Organic_carbon       0\n",
              "Trihalomethanes    162\n",
              "Turbidity            0\n",
              "Potability           0\n",
              "dtype: int64"
            ]
          },
          "metadata": {},
          "execution_count": 6
        }
      ]
    },
    {
      "cell_type": "markdown",
      "source": [
        "Llenamos los valores faltantes con la media de los datos "
      ],
      "metadata": {
        "id": "KQ-AGOyVqImR"
      }
    },
    {
      "cell_type": "code",
      "source": [
        "df['ph'].fillna(value=df['ph'].mean(), inplace=True)\n",
        "df['Sulfate'].fillna(value=df['Sulfate'].mean(), inplace=True)\n",
        "df['Trihalomethanes'].fillna(value=df['Trihalomethanes'].mean(), inplace=True)"
      ],
      "metadata": {
        "id": "jL6vzHzdqPvN"
      },
      "execution_count": 7,
      "outputs": []
    },
    {
      "cell_type": "code",
      "source": [
        "df.isnull().sum()"
      ],
      "metadata": {
        "colab": {
          "base_uri": "https://localhost:8080/",
          "height": 0
        },
        "id": "YJ17cm8uqTva",
        "outputId": "f8e0c6fe-ba41-4ce6-96e4-2ac53862167d"
      },
      "execution_count": 8,
      "outputs": [
        {
          "output_type": "execute_result",
          "data": {
            "text/plain": [
              "ph                 0\n",
              "Hardness           0\n",
              "Solids             0\n",
              "Chloramines        0\n",
              "Sulfate            0\n",
              "Conductivity       0\n",
              "Organic_carbon     0\n",
              "Trihalomethanes    0\n",
              "Turbidity          0\n",
              "Potability         0\n",
              "dtype: int64"
            ]
          },
          "metadata": {},
          "execution_count": 8
        }
      ]
    },
    {
      "cell_type": "markdown",
      "source": [
        "## Normalizamos los datos "
      ],
      "metadata": {
        "id": "CJ4YnTRCqVd4"
      }
    },
    {
      "cell_type": "code",
      "source": [
        "scaler = MinMaxScaler()\n",
        "scale = scaler.fit_transform(df)\n",
        "df_scale = pd.DataFrame(scale, columns = df.columns)\n",
        "df_scale"
      ],
      "metadata": {
        "colab": {
          "base_uri": "https://localhost:8080/",
          "height": 423
        },
        "id": "eHDnKmZJqZXV",
        "outputId": "c80fba91-d80f-4adf-88ca-f815161b71c9"
      },
      "execution_count": 9,
      "outputs": [
        {
          "output_type": "execute_result",
          "data": {
            "text/plain": [
              "            ph  Hardness    Solids  Chloramines   Sulfate  Conductivity  \\\n",
              "0     0.505771  0.571139  0.336096     0.543891  0.680385      0.669439   \n",
              "1     0.265434  0.297400  0.300611     0.491839  0.581699      0.719411   \n",
              "2     0.578509  0.641311  0.321619     0.698543  0.581699      0.414652   \n",
              "3     0.594055  0.605536  0.356244     0.603314  0.647347      0.317880   \n",
              "4     0.649445  0.484851  0.289922     0.484900  0.514545      0.379337   \n",
              "...        ...       ...       ...          ...       ...           ...   \n",
              "3271  0.333436  0.530482  0.775947     0.533436  0.656047      0.603192   \n",
              "3272  0.557775  0.530016  0.279263     0.603473  0.581699      0.368912   \n",
              "3273  0.672822  0.465486  0.539101     0.547807  0.581699      0.438152   \n",
              "3274  0.366197  0.664407  0.191490     0.465860  0.581699      0.387157   \n",
              "3275  0.562477  0.535635  0.280484     0.560259  0.581699      0.255266   \n",
              "\n",
              "      Organic_carbon  Trihalomethanes  Turbidity  Potability  \n",
              "0           0.313402         0.699753   0.286091         0.0  \n",
              "1           0.497319         0.450999   0.576793         0.0  \n",
              "2           0.562017         0.532866   0.303637         0.0  \n",
              "3           0.622089         0.808065   0.601015         0.0  \n",
              "4           0.358555         0.253606   0.496327         0.0  \n",
              "...              ...              ...        ...         ...  \n",
              "3271        0.448062         0.535037   0.564534         1.0  \n",
              "3272        0.678284         0.532673   0.254915         1.0  \n",
              "3273        0.338662         0.560655   0.349570         1.0  \n",
              "3274        0.343638         0.622659   0.616120         1.0  \n",
              "3275        0.534114         0.632478   0.162441         1.0  \n",
              "\n",
              "[3276 rows x 10 columns]"
            ],
            "text/html": [
              "\n",
              "  <div id=\"df-6d2d1c42-9779-4c2e-84d4-e92672bed904\">\n",
              "    <div class=\"colab-df-container\">\n",
              "      <div>\n",
              "<style scoped>\n",
              "    .dataframe tbody tr th:only-of-type {\n",
              "        vertical-align: middle;\n",
              "    }\n",
              "\n",
              "    .dataframe tbody tr th {\n",
              "        vertical-align: top;\n",
              "    }\n",
              "\n",
              "    .dataframe thead th {\n",
              "        text-align: right;\n",
              "    }\n",
              "</style>\n",
              "<table border=\"1\" class=\"dataframe\">\n",
              "  <thead>\n",
              "    <tr style=\"text-align: right;\">\n",
              "      <th></th>\n",
              "      <th>ph</th>\n",
              "      <th>Hardness</th>\n",
              "      <th>Solids</th>\n",
              "      <th>Chloramines</th>\n",
              "      <th>Sulfate</th>\n",
              "      <th>Conductivity</th>\n",
              "      <th>Organic_carbon</th>\n",
              "      <th>Trihalomethanes</th>\n",
              "      <th>Turbidity</th>\n",
              "      <th>Potability</th>\n",
              "    </tr>\n",
              "  </thead>\n",
              "  <tbody>\n",
              "    <tr>\n",
              "      <th>0</th>\n",
              "      <td>0.505771</td>\n",
              "      <td>0.571139</td>\n",
              "      <td>0.336096</td>\n",
              "      <td>0.543891</td>\n",
              "      <td>0.680385</td>\n",
              "      <td>0.669439</td>\n",
              "      <td>0.313402</td>\n",
              "      <td>0.699753</td>\n",
              "      <td>0.286091</td>\n",
              "      <td>0.0</td>\n",
              "    </tr>\n",
              "    <tr>\n",
              "      <th>1</th>\n",
              "      <td>0.265434</td>\n",
              "      <td>0.297400</td>\n",
              "      <td>0.300611</td>\n",
              "      <td>0.491839</td>\n",
              "      <td>0.581699</td>\n",
              "      <td>0.719411</td>\n",
              "      <td>0.497319</td>\n",
              "      <td>0.450999</td>\n",
              "      <td>0.576793</td>\n",
              "      <td>0.0</td>\n",
              "    </tr>\n",
              "    <tr>\n",
              "      <th>2</th>\n",
              "      <td>0.578509</td>\n",
              "      <td>0.641311</td>\n",
              "      <td>0.321619</td>\n",
              "      <td>0.698543</td>\n",
              "      <td>0.581699</td>\n",
              "      <td>0.414652</td>\n",
              "      <td>0.562017</td>\n",
              "      <td>0.532866</td>\n",
              "      <td>0.303637</td>\n",
              "      <td>0.0</td>\n",
              "    </tr>\n",
              "    <tr>\n",
              "      <th>3</th>\n",
              "      <td>0.594055</td>\n",
              "      <td>0.605536</td>\n",
              "      <td>0.356244</td>\n",
              "      <td>0.603314</td>\n",
              "      <td>0.647347</td>\n",
              "      <td>0.317880</td>\n",
              "      <td>0.622089</td>\n",
              "      <td>0.808065</td>\n",
              "      <td>0.601015</td>\n",
              "      <td>0.0</td>\n",
              "    </tr>\n",
              "    <tr>\n",
              "      <th>4</th>\n",
              "      <td>0.649445</td>\n",
              "      <td>0.484851</td>\n",
              "      <td>0.289922</td>\n",
              "      <td>0.484900</td>\n",
              "      <td>0.514545</td>\n",
              "      <td>0.379337</td>\n",
              "      <td>0.358555</td>\n",
              "      <td>0.253606</td>\n",
              "      <td>0.496327</td>\n",
              "      <td>0.0</td>\n",
              "    </tr>\n",
              "    <tr>\n",
              "      <th>...</th>\n",
              "      <td>...</td>\n",
              "      <td>...</td>\n",
              "      <td>...</td>\n",
              "      <td>...</td>\n",
              "      <td>...</td>\n",
              "      <td>...</td>\n",
              "      <td>...</td>\n",
              "      <td>...</td>\n",
              "      <td>...</td>\n",
              "      <td>...</td>\n",
              "    </tr>\n",
              "    <tr>\n",
              "      <th>3271</th>\n",
              "      <td>0.333436</td>\n",
              "      <td>0.530482</td>\n",
              "      <td>0.775947</td>\n",
              "      <td>0.533436</td>\n",
              "      <td>0.656047</td>\n",
              "      <td>0.603192</td>\n",
              "      <td>0.448062</td>\n",
              "      <td>0.535037</td>\n",
              "      <td>0.564534</td>\n",
              "      <td>1.0</td>\n",
              "    </tr>\n",
              "    <tr>\n",
              "      <th>3272</th>\n",
              "      <td>0.557775</td>\n",
              "      <td>0.530016</td>\n",
              "      <td>0.279263</td>\n",
              "      <td>0.603473</td>\n",
              "      <td>0.581699</td>\n",
              "      <td>0.368912</td>\n",
              "      <td>0.678284</td>\n",
              "      <td>0.532673</td>\n",
              "      <td>0.254915</td>\n",
              "      <td>1.0</td>\n",
              "    </tr>\n",
              "    <tr>\n",
              "      <th>3273</th>\n",
              "      <td>0.672822</td>\n",
              "      <td>0.465486</td>\n",
              "      <td>0.539101</td>\n",
              "      <td>0.547807</td>\n",
              "      <td>0.581699</td>\n",
              "      <td>0.438152</td>\n",
              "      <td>0.338662</td>\n",
              "      <td>0.560655</td>\n",
              "      <td>0.349570</td>\n",
              "      <td>1.0</td>\n",
              "    </tr>\n",
              "    <tr>\n",
              "      <th>3274</th>\n",
              "      <td>0.366197</td>\n",
              "      <td>0.664407</td>\n",
              "      <td>0.191490</td>\n",
              "      <td>0.465860</td>\n",
              "      <td>0.581699</td>\n",
              "      <td>0.387157</td>\n",
              "      <td>0.343638</td>\n",
              "      <td>0.622659</td>\n",
              "      <td>0.616120</td>\n",
              "      <td>1.0</td>\n",
              "    </tr>\n",
              "    <tr>\n",
              "      <th>3275</th>\n",
              "      <td>0.562477</td>\n",
              "      <td>0.535635</td>\n",
              "      <td>0.280484</td>\n",
              "      <td>0.560259</td>\n",
              "      <td>0.581699</td>\n",
              "      <td>0.255266</td>\n",
              "      <td>0.534114</td>\n",
              "      <td>0.632478</td>\n",
              "      <td>0.162441</td>\n",
              "      <td>1.0</td>\n",
              "    </tr>\n",
              "  </tbody>\n",
              "</table>\n",
              "<p>3276 rows × 10 columns</p>\n",
              "</div>\n",
              "      <button class=\"colab-df-convert\" onclick=\"convertToInteractive('df-6d2d1c42-9779-4c2e-84d4-e92672bed904')\"\n",
              "              title=\"Convert this dataframe to an interactive table.\"\n",
              "              style=\"display:none;\">\n",
              "        \n",
              "  <svg xmlns=\"http://www.w3.org/2000/svg\" height=\"24px\"viewBox=\"0 0 24 24\"\n",
              "       width=\"24px\">\n",
              "    <path d=\"M0 0h24v24H0V0z\" fill=\"none\"/>\n",
              "    <path d=\"M18.56 5.44l.94 2.06.94-2.06 2.06-.94-2.06-.94-.94-2.06-.94 2.06-2.06.94zm-11 1L8.5 8.5l.94-2.06 2.06-.94-2.06-.94L8.5 2.5l-.94 2.06-2.06.94zm10 10l.94 2.06.94-2.06 2.06-.94-2.06-.94-.94-2.06-.94 2.06-2.06.94z\"/><path d=\"M17.41 7.96l-1.37-1.37c-.4-.4-.92-.59-1.43-.59-.52 0-1.04.2-1.43.59L10.3 9.45l-7.72 7.72c-.78.78-.78 2.05 0 2.83L4 21.41c.39.39.9.59 1.41.59.51 0 1.02-.2 1.41-.59l7.78-7.78 2.81-2.81c.8-.78.8-2.07 0-2.86zM5.41 20L4 18.59l7.72-7.72 1.47 1.35L5.41 20z\"/>\n",
              "  </svg>\n",
              "      </button>\n",
              "      \n",
              "  <style>\n",
              "    .colab-df-container {\n",
              "      display:flex;\n",
              "      flex-wrap:wrap;\n",
              "      gap: 12px;\n",
              "    }\n",
              "\n",
              "    .colab-df-convert {\n",
              "      background-color: #E8F0FE;\n",
              "      border: none;\n",
              "      border-radius: 50%;\n",
              "      cursor: pointer;\n",
              "      display: none;\n",
              "      fill: #1967D2;\n",
              "      height: 32px;\n",
              "      padding: 0 0 0 0;\n",
              "      width: 32px;\n",
              "    }\n",
              "\n",
              "    .colab-df-convert:hover {\n",
              "      background-color: #E2EBFA;\n",
              "      box-shadow: 0px 1px 2px rgba(60, 64, 67, 0.3), 0px 1px 3px 1px rgba(60, 64, 67, 0.15);\n",
              "      fill: #174EA6;\n",
              "    }\n",
              "\n",
              "    [theme=dark] .colab-df-convert {\n",
              "      background-color: #3B4455;\n",
              "      fill: #D2E3FC;\n",
              "    }\n",
              "\n",
              "    [theme=dark] .colab-df-convert:hover {\n",
              "      background-color: #434B5C;\n",
              "      box-shadow: 0px 1px 3px 1px rgba(0, 0, 0, 0.15);\n",
              "      filter: drop-shadow(0px 1px 2px rgba(0, 0, 0, 0.3));\n",
              "      fill: #FFFFFF;\n",
              "    }\n",
              "  </style>\n",
              "\n",
              "      <script>\n",
              "        const buttonEl =\n",
              "          document.querySelector('#df-6d2d1c42-9779-4c2e-84d4-e92672bed904 button.colab-df-convert');\n",
              "        buttonEl.style.display =\n",
              "          google.colab.kernel.accessAllowed ? 'block' : 'none';\n",
              "\n",
              "        async function convertToInteractive(key) {\n",
              "          const element = document.querySelector('#df-6d2d1c42-9779-4c2e-84d4-e92672bed904');\n",
              "          const dataTable =\n",
              "            await google.colab.kernel.invokeFunction('convertToInteractive',\n",
              "                                                     [key], {});\n",
              "          if (!dataTable) return;\n",
              "\n",
              "          const docLinkHtml = 'Like what you see? Visit the ' +\n",
              "            '<a target=\"_blank\" href=https://colab.research.google.com/notebooks/data_table.ipynb>data table notebook</a>'\n",
              "            + ' to learn more about interactive tables.';\n",
              "          element.innerHTML = '';\n",
              "          dataTable['output_type'] = 'display_data';\n",
              "          await google.colab.output.renderOutput(dataTable, element);\n",
              "          const docLink = document.createElement('div');\n",
              "          docLink.innerHTML = docLinkHtml;\n",
              "          element.appendChild(docLink);\n",
              "        }\n",
              "      </script>\n",
              "    </div>\n",
              "  </div>\n",
              "  "
            ]
          },
          "metadata": {},
          "execution_count": 9
        }
      ]
    },
    {
      "cell_type": "markdown",
      "source": [
        "## Entrena por lo menos 2 algoritmos de clasificación\n"
      ],
      "metadata": {
        "id": "_g2XwE8Pqr-l"
      }
    },
    {
      "cell_type": "markdown",
      "source": [
        "### SVC"
      ],
      "metadata": {
        "id": "BXRdQfr684pG"
      }
    },
    {
      "cell_type": "markdown",
      "metadata": {
        "id": "4DbNuPMbNXqb"
      },
      "source": [
        "#### Preprocessing\n"
      ]
    },
    {
      "cell_type": "code",
      "metadata": {
        "id": "DuCEEy_2NZKK"
      },
      "source": [
        "X = df_scale.drop('Potability', axis=1)\n",
        "y = df_scale['Potability']"
      ],
      "execution_count": 10,
      "outputs": []
    },
    {
      "cell_type": "markdown",
      "metadata": {
        "id": "24FsiMTlNdG5"
      },
      "source": [
        "#### Train Test Split\n"
      ]
    },
    {
      "cell_type": "code",
      "metadata": {
        "colab": {
          "base_uri": "https://localhost:8080/",
          "height": 0
        },
        "id": "SsdBy8xHNe6_",
        "outputId": "3c33b0fe-ee11-4654-d92b-f65001ed0be4"
      },
      "source": [
        "from sklearn.model_selection import train_test_split\n",
        "X_train, X_test, y_train, y_test = train_test_split(X, y, test_size = 0.20)\n",
        "y"
      ],
      "execution_count": 11,
      "outputs": [
        {
          "output_type": "execute_result",
          "data": {
            "text/plain": [
              "0       0.0\n",
              "1       0.0\n",
              "2       0.0\n",
              "3       0.0\n",
              "4       0.0\n",
              "       ... \n",
              "3271    1.0\n",
              "3272    1.0\n",
              "3273    1.0\n",
              "3274    1.0\n",
              "3275    1.0\n",
              "Name: Potability, Length: 3276, dtype: float64"
            ]
          },
          "metadata": {},
          "execution_count": 11
        }
      ]
    },
    {
      "cell_type": "markdown",
      "metadata": {
        "id": "NOTLpVBbNh24"
      },
      "source": [
        "#### Training the Algorithm\n",
        "\n",
        "To train the kernel SVM, we use the same SVC class of the Scikit-Learn's svm library. The difference lies in the value for the kernel parameter of the SVC class. In the case of the simple SVM we used \"linear\" as the value for the kernel parameter. However, for kernel SVM you can use Gaussian, polynomial, sigmoid, or computable kernel. "
      ]
    },
    {
      "cell_type": "markdown",
      "source": [
        "#### Calibraciones SVC"
      ],
      "metadata": {
        "id": "j6CmOReF9I33"
      }
    },
    {
      "cell_type": "markdown",
      "metadata": {
        "id": "U4zx1chuNz-Y"
      },
      "source": [
        "##### 1. Polynomial Kernel\n"
      ]
    },
    {
      "cell_type": "markdown",
      "metadata": {
        "id": "VSMtGqntN75c"
      },
      "source": [
        "In the case of polynomial kernel, you also have to pass a value for the degree parameter of the SVC class. This basically is the degree of the polynomial."
      ]
    },
    {
      "cell_type": "code",
      "metadata": {
        "id": "qAlbqUNYN24G"
      },
      "source": [
        "from sklearn.svm import SVC\n",
        "svclassifier = SVC(kernel='poly', degree=3)\n",
        "svclassifier.fit(X_train, y_train)\n",
        "y_pred1 = svclassifier.predict(X_test)\n"
      ],
      "execution_count": 12,
      "outputs": []
    },
    {
      "cell_type": "markdown",
      "metadata": {
        "id": "ZM64fJUkOHcb"
      },
      "source": [
        "Evaluating the Algorithm\n"
      ]
    },
    {
      "cell_type": "code",
      "execution_count": 13,
      "metadata": {
        "colab": {
          "base_uri": "https://localhost:8080/",
          "height": 0
        },
        "outputId": "92a0b962-f11c-493c-805e-e003d68b2890",
        "id": "fGbIwbgoAF99"
      },
      "outputs": [
        {
          "output_type": "execute_result",
          "data": {
            "text/plain": [
              "0.6509146341463414"
            ]
          },
          "metadata": {},
          "execution_count": 13
        }
      ],
      "source": [
        "metrics.accuracy_score(y_test, y_pred1)"
      ]
    },
    {
      "cell_type": "code",
      "source": [
        "metrics.accuracy_score(y_test, y_pred1) #porcentaje de prediccion de valores verdaderos"
      ],
      "metadata": {
        "colab": {
          "base_uri": "https://localhost:8080/",
          "height": 0
        },
        "outputId": "e9f3329d-c4f3-4eed-da3a-2ff0f9946fe2",
        "id": "WMKkdPzCAF99"
      },
      "execution_count": 14,
      "outputs": [
        {
          "output_type": "execute_result",
          "data": {
            "text/plain": [
              "0.6509146341463414"
            ]
          },
          "metadata": {},
          "execution_count": 14
        }
      ]
    },
    {
      "cell_type": "code",
      "source": [
        "metrics.recall_score(y_test,y_pred1) #indica falsos negativos"
      ],
      "metadata": {
        "colab": {
          "base_uri": "https://localhost:8080/",
          "height": 0
        },
        "outputId": "144fcb58-1294-44be-90c7-0a7d52c1c8f9",
        "id": "ZHYHqOhIAF99"
      },
      "execution_count": 15,
      "outputs": [
        {
          "output_type": "execute_result",
          "data": {
            "text/plain": [
              "0.2047244094488189"
            ]
          },
          "metadata": {},
          "execution_count": 15
        }
      ]
    },
    {
      "cell_type": "code",
      "source": [
        "metrics.precision_score(y_test,y_pred1) #falsos positivos"
      ],
      "metadata": {
        "colab": {
          "base_uri": "https://localhost:8080/",
          "height": 0
        },
        "outputId": "a3877e42-1ada-49b8-b7c3-c3213a1a84a5",
        "id": "O9fBH8_PAF99"
      },
      "execution_count": 16,
      "outputs": [
        {
          "output_type": "execute_result",
          "data": {
            "text/plain": [
              "0.6582278481012658"
            ]
          },
          "metadata": {},
          "execution_count": 16
        }
      ]
    },
    {
      "cell_type": "code",
      "source": [
        "metrics.f1_score(y_test,y_pred1) #media armonica entre recall y presicion"
      ],
      "metadata": {
        "colab": {
          "base_uri": "https://localhost:8080/",
          "height": 0
        },
        "outputId": "3fc20c8d-4714-4b43-f4dc-88af43603cf0",
        "id": "ayZTtN7TAF9-"
      },
      "execution_count": 17,
      "outputs": [
        {
          "output_type": "execute_result",
          "data": {
            "text/plain": [
              "0.3123123123123123"
            ]
          },
          "metadata": {},
          "execution_count": 17
        }
      ]
    },
    {
      "cell_type": "code",
      "metadata": {
        "colab": {
          "base_uri": "https://localhost:8080/",
          "height": 0
        },
        "id": "H1szYioNOJfU",
        "outputId": "317b5644-b16a-42d2-a5f6-c16054c96603"
      },
      "source": [
        "\n",
        "from sklearn.metrics import classification_report, confusion_matrix\n",
        "print(confusion_matrix(y_test, y_pred1))\n",
        "print(classification_report(y_test, y_pred1))"
      ],
      "execution_count": 18,
      "outputs": [
        {
          "output_type": "stream",
          "name": "stdout",
          "text": [
            "[[375  27]\n",
            " [202  52]]\n",
            "              precision    recall  f1-score   support\n",
            "\n",
            "         0.0       0.65      0.93      0.77       402\n",
            "         1.0       0.66      0.20      0.31       254\n",
            "\n",
            "    accuracy                           0.65       656\n",
            "   macro avg       0.65      0.57      0.54       656\n",
            "weighted avg       0.65      0.65      0.59       656\n",
            "\n"
          ]
        }
      ]
    },
    {
      "cell_type": "markdown",
      "metadata": {
        "id": "XtV-xyNeoRh6"
      },
      "source": [
        "###### curva ROC y AUC"
      ]
    },
    {
      "cell_type": "code",
      "execution_count": 19,
      "metadata": {
        "outputId": "34636921-4cb5-4a92-d6cf-f876b8f33c05",
        "colab": {
          "base_uri": "https://localhost:8080/",
          "height": 265
        },
        "id": "LCmhEZUVB_RO"
      },
      "outputs": [
        {
          "output_type": "display_data",
          "data": {
            "text/plain": [
              "<Figure size 432x288 with 1 Axes>"
            ],
            "image/png": "[encoded data removed]"
          },
          "metadata": {
            "needs_background": "light"
          }
        }
      ],
      "source": [
        "fpr, tpr, thresholds = roc_curve(y_test, y_pred1)\n",
        "def plot_roc_curve(fpr, tpr, label = None):\n",
        "    plt.plot(fpr, tpr, linewidth =2, label=label)\n",
        "    plt.plot([0,1],[0,1],'k--')\n",
        "plot_roc_curve(fpr, tpr)\n",
        "plt.show()"
      ]
    },
    {
      "cell_type": "markdown",
      "source": [
        "###### Cross Validation"
      ],
      "metadata": {
        "id": "I9Qhpy1OFuyj"
      }
    },
    {
      "cell_type": "code",
      "source": [
        "SVC_result = cross_validation(svclassifier, X, y, 5)\n",
        "print(SVC_result)"
      ],
      "metadata": {
        "colab": {
          "base_uri": "https://localhost:8080/",
          "height": 0
        },
        "id": "kvwT_xqiFsoY",
        "outputId": "bc9ad989-62a8-45de-87ce-c944e01b2060"
      },
      "execution_count": 20,
      "outputs": [
        {
          "output_type": "stream",
          "name": "stdout",
          "text": [
            "{'Training Accuracy scores': array([0.70267176, 0.69362839, 0.69591759, 0.70660053, 0.69133918]), 'Mean Training Accuracy': 69.80314896417951, 'Training Precision scores': array([0.77060134, 0.76570048, 0.77033493, 0.7804878 , 0.7751938 ]), 'Mean Training Precision': 0.7724636701904019, 'Training Recall scores': array([0.33855186, 0.30987292, 0.31476051, 0.3444227 , 0.29354207]), 'Mean Training Recall': 0.32023001302718496, 'Training F1 scores': array([0.47042828, 0.44119694, 0.44691187, 0.47793618, 0.42583392]), 'Mean Training F1 Score': 0.45246143886653767, 'Validation Accuracy scores': array([0.6402439 , 0.64122137, 0.65496183, 0.63664122, 0.67022901]), 'Mean Validation Accuracy': 64.86594675107057, 'Validation Precision scores': array([0.58333333, 0.66129032, 0.64948454, 0.58181818, 0.66393443]), 'Mean Validation Precision': 0.6279721600088285, 'Validation Recall scores': array([0.2734375 , 0.16078431, 0.24705882, 0.25      , 0.31640625]), 'Mean Validation Recall': 0.24953737745098037, 'Validation F1 scores': array([0.37234043, 0.25867508, 0.35795455, 0.34972678, 0.42857143]), 'Mean Validation F1 Score': 0.35345365087570524}\n"
          ]
        }
      ]
    },
    {
      "cell_type": "markdown",
      "metadata": {
        "id": "SupOJllQOcoH"
      },
      "source": [
        "##### 2. Gaussian Kernel\n"
      ]
    },
    {
      "cell_type": "markdown",
      "metadata": {
        "id": "e-OWtsePOfAt"
      },
      "source": [
        "To use Gaussian kernel, you have to specify 'rbf' as value for the Kernel parameter of the SVC class.\n",
        "\n"
      ]
    },
    {
      "cell_type": "code",
      "metadata": {
        "id": "qYeH9ipfOjeM"
      },
      "source": [
        "from sklearn.svm import SVC\n",
        "svclassifier = SVC(kernel='rbf')\n",
        "svclassifier.fit(X_train, y_train)\n",
        "\n",
        "y_pred = svclassifier.predict(X_test)\n"
      ],
      "execution_count": 21,
      "outputs": []
    },
    {
      "cell_type": "markdown",
      "metadata": {
        "id": "6lL_YmbNOl9D"
      },
      "source": [
        "Prediction and Evaluation\n"
      ]
    },
    {
      "cell_type": "code",
      "execution_count": 22,
      "metadata": {
        "colab": {
          "base_uri": "https://localhost:8080/",
          "height": 0
        },
        "outputId": "e0d334af-a92c-40cc-f993-0379bc2ff74d",
        "id": "rt79pwzEAE-f"
      },
      "outputs": [
        {
          "output_type": "execute_result",
          "data": {
            "text/plain": [
              "0.6646341463414634"
            ]
          },
          "metadata": {},
          "execution_count": 22
        }
      ],
      "source": [
        "metrics.accuracy_score(y_test, y_pred)"
      ]
    },
    {
      "cell_type": "code",
      "source": [
        "metrics.accuracy_score(y_test, y_pred) #porcentaje de prediccion de valores verdaderos"
      ],
      "metadata": {
        "colab": {
          "base_uri": "https://localhost:8080/",
          "height": 0
        },
        "outputId": "b62ab00f-2847-4590-d4e3-d054db6f89d6",
        "id": "nA18N00KAE-f"
      },
      "execution_count": 23,
      "outputs": [
        {
          "output_type": "execute_result",
          "data": {
            "text/plain": [
              "0.6646341463414634"
            ]
          },
          "metadata": {},
          "execution_count": 23
        }
      ]
    },
    {
      "cell_type": "code",
      "source": [
        "metrics.recall_score(y_test,y_pred) #indica falsos negativos"
      ],
      "metadata": {
        "colab": {
          "base_uri": "https://localhost:8080/",
          "height": 0
        },
        "outputId": "871b3d89-8e20-44ae-c8d8-3db722e94dcf",
        "id": "iU17bm1UAE-f"
      },
      "execution_count": 24,
      "outputs": [
        {
          "output_type": "execute_result",
          "data": {
            "text/plain": [
              "0.20866141732283464"
            ]
          },
          "metadata": {},
          "execution_count": 24
        }
      ]
    },
    {
      "cell_type": "code",
      "source": [
        "metrics.precision_score(y_test,y_pred) #falsos positivos"
      ],
      "metadata": {
        "colab": {
          "base_uri": "https://localhost:8080/",
          "height": 0
        },
        "outputId": "908fa1b1-7ce0-4711-fea7-c56dbd167b7f",
        "id": "GDnkCKLEAE-f"
      },
      "execution_count": 25,
      "outputs": [
        {
          "output_type": "execute_result",
          "data": {
            "text/plain": [
              "0.7361111111111112"
            ]
          },
          "metadata": {},
          "execution_count": 25
        }
      ]
    },
    {
      "cell_type": "code",
      "source": [
        "metrics.f1_score(y_test,y_pred) #media armonica entre recall y presicion"
      ],
      "metadata": {
        "colab": {
          "base_uri": "https://localhost:8080/",
          "height": 0
        },
        "outputId": "3c14df17-1802-4b0b-e7c6-97a27a31dd68",
        "id": "Bzev5KneAE-g"
      },
      "execution_count": 26,
      "outputs": [
        {
          "output_type": "execute_result",
          "data": {
            "text/plain": [
              "0.3251533742331288"
            ]
          },
          "metadata": {},
          "execution_count": 26
        }
      ]
    },
    {
      "cell_type": "code",
      "metadata": {
        "colab": {
          "base_uri": "https://localhost:8080/",
          "height": 0
        },
        "id": "VsFs-VUTOnxe",
        "outputId": "88fefec8-b554-4ba1-847c-9fcf7b248f82"
      },
      "source": [
        "\n",
        "from sklearn.metrics import classification_report, confusion_matrix\n",
        "print(confusion_matrix(y_test, y_pred))\n",
        "print(classification_report(y_test, y_pred))"
      ],
      "execution_count": 27,
      "outputs": [
        {
          "output_type": "stream",
          "name": "stdout",
          "text": [
            "[[383  19]\n",
            " [201  53]]\n",
            "              precision    recall  f1-score   support\n",
            "\n",
            "         0.0       0.66      0.95      0.78       402\n",
            "         1.0       0.74      0.21      0.33       254\n",
            "\n",
            "    accuracy                           0.66       656\n",
            "   macro avg       0.70      0.58      0.55       656\n",
            "weighted avg       0.69      0.66      0.60       656\n",
            "\n"
          ]
        }
      ]
    },
    {
      "cell_type": "markdown",
      "metadata": {
        "id": "Fs25rNyvCD80"
      },
      "source": [
        "###### curva ROC y AUC"
      ]
    },
    {
      "cell_type": "code",
      "execution_count": 28,
      "metadata": {
        "outputId": "12cff32c-94dc-49c0-a4e5-0c0d5ae5bbc4",
        "colab": {
          "base_uri": "https://localhost:8080/",
          "height": 265
        },
        "id": "v-qf7GmcCD80"
      },
      "outputs": [
        {
          "output_type": "display_data",
          "data": {
            "text/plain": [
              "<Figure size 432x288 with 1 Axes>"
            ],
            "image/png": "[encoded data removed]"
          },
          "metadata": {
            "needs_background": "light"
          }
        }
      ],
      "source": [
        "fpr, tpr, thresholds = roc_curve(y_test, y_pred)\n",
        "def plot_roc_curve(fpr, tpr, label = None):\n",
        "    plt.plot(fpr, tpr, linewidth =2, label=label)\n",
        "    plt.plot([0,1],[0,1],'k--')\n",
        "plot_roc_curve(fpr, tpr)\n",
        "plt.show()"
      ]
    },
    {
      "cell_type": "markdown",
      "source": [
        "###### Cross Validation"
      ],
      "metadata": {
        "id": "LmwskLsSF_aE"
      }
    },
    {
      "cell_type": "code",
      "source": [
        "SVC_result = cross_validation(svclassifier, X, y, 5)\n",
        "print(SVC_result)"
      ],
      "metadata": {
        "colab": {
          "base_uri": "https://localhost:8080/",
          "height": 0
        },
        "id": "hZPElI-NF_aE",
        "outputId": "7b173e9c-82fd-413c-ac38-e015aae57da3"
      },
      "execution_count": 29,
      "outputs": [
        {
          "output_type": "stream",
          "name": "stdout",
          "text": [
            "{'Training Accuracy scores': array([0.71564885, 0.70431133, 0.71423121, 0.72148035, 0.7050744 ]), 'Mean Training Accuracy': 71.2149229214419, 'Training Precision scores': array([0.84029484, 0.83695652, 0.8643617 , 0.87628866, 0.84297521]), 'Mean Training Precision': 0.852175386113403, 'Training Recall scores': array([0.33463796, 0.30107527, 0.31769306, 0.33268102, 0.29941292]), 'Mean Training Recall': 0.31710004533689906, 'Training F1 scores': array([0.4786564 , 0.44284687, 0.46461758, 0.4822695 , 0.44187726]), 'Mean Training F1 Score': 0.46205352393696864, 'Validation Accuracy scores': array([0.61585366, 0.65648855, 0.66259542, 0.61832061, 0.66259542]), 'Mean Validation Accuracy': 64.3170731707317, 'Validation Precision scores': array([0.51724138, 0.75862069, 0.70731707, 0.5375    , 0.69662921]), 'Mean Validation Precision': 0.643461671123879, 'Validation Recall scores': array([0.234375  , 0.17254902, 0.22745098, 0.16796875, 0.2421875 ]), 'Mean Validation Recall': 0.20890625, 'Validation F1 scores': array([0.32258065, 0.28115016, 0.34421365, 0.25595238, 0.35942029]), 'Mean Validation F1 Score': 0.31266342511295697}\n"
          ]
        }
      ]
    },
    {
      "cell_type": "markdown",
      "metadata": {
        "id": "k0tPF5XfOy3t"
      },
      "source": [
        "##### 3. Sigmoid Kernel\n"
      ]
    },
    {
      "cell_type": "markdown",
      "metadata": {
        "id": "trVd0cbPO0eN"
      },
      "source": [
        "To use the sigmoid kernel, you have to specify 'sigmoid' as value for the kernel parameter of the SVC class.\n",
        "\n"
      ]
    },
    {
      "cell_type": "code",
      "metadata": {
        "id": "HK61MjFjO2pN"
      },
      "source": [
        "from sklearn.svm import SVC\n",
        "svclassifier = SVC(kernel='sigmoid')\n",
        "svclassifier.fit(X_train, y_train)\n",
        "\n",
        "y_pred = svclassifier.predict(X_test)"
      ],
      "execution_count": 30,
      "outputs": []
    },
    {
      "cell_type": "markdown",
      "metadata": {
        "id": "GaUwfda-O4-F"
      },
      "source": [
        "Prediction and Evaluation\n"
      ]
    },
    {
      "cell_type": "code",
      "execution_count": 31,
      "metadata": {
        "colab": {
          "base_uri": "https://localhost:8080/",
          "height": 0
        },
        "outputId": "f07008d7-4b73-4a3d-9117-265725b625f0",
        "id": "nACYshbtAEPq"
      },
      "outputs": [
        {
          "output_type": "execute_result",
          "data": {
            "text/plain": [
              "0.6128048780487805"
            ]
          },
          "metadata": {},
          "execution_count": 31
        }
      ],
      "source": [
        "metrics.accuracy_score(y_test, y_pred)"
      ]
    },
    {
      "cell_type": "code",
      "source": [
        "metrics.accuracy_score(y_test, y_pred) #porcentaje de prediccion de valores verdaderos"
      ],
      "metadata": {
        "colab": {
          "base_uri": "https://localhost:8080/",
          "height": 0
        },
        "outputId": "ef827ef9-d6ee-4689-a826-b2456437a9e2",
        "id": "tokQMJ7hAEPr"
      },
      "execution_count": 32,
      "outputs": [
        {
          "output_type": "execute_result",
          "data": {
            "text/plain": [
              "0.6128048780487805"
            ]
          },
          "metadata": {},
          "execution_count": 32
        }
      ]
    },
    {
      "cell_type": "code",
      "source": [
        "metrics.recall_score(y_test,y_pred) #indica falsos negativos"
      ],
      "metadata": {
        "colab": {
          "base_uri": "https://localhost:8080/",
          "height": 0
        },
        "outputId": "fdd71cb1-35a7-470a-ac09-1136fa51007e",
        "id": "NXxB-N--AEPr"
      },
      "execution_count": 33,
      "outputs": [
        {
          "output_type": "execute_result",
          "data": {
            "text/plain": [
              "0.0"
            ]
          },
          "metadata": {},
          "execution_count": 33
        }
      ]
    },
    {
      "cell_type": "code",
      "source": [
        "metrics.precision_score(y_test,y_pred) #falsos positivos"
      ],
      "metadata": {
        "colab": {
          "base_uri": "https://localhost:8080/",
          "height": 0
        },
        "outputId": "0e583574-52f8-46bd-c41c-e05a89df907b",
        "id": "kINX7FPyAEPr"
      },
      "execution_count": 34,
      "outputs": [
        {
          "output_type": "stream",
          "name": "stderr",
          "text": [
            "/usr/local/lib/python3.7/dist-packages/sklearn/metrics/_classification.py:1318: UndefinedMetricWarning: Precision is ill-defined and being set to 0.0 due to no predicted samples. Use `zero_division` parameter to control this behavior.\n",
            "  _warn_prf(average, modifier, msg_start, len(result))\n"
          ]
        },
        {
          "output_type": "execute_result",
          "data": {
            "text/plain": [
              "0.0"
            ]
          },
          "metadata": {},
          "execution_count": 34
        }
      ]
    },
    {
      "cell_type": "code",
      "source": [
        "metrics.f1_score(y_test,y_pred) #media armonica entre recall y presicion"
      ],
      "metadata": {
        "colab": {
          "base_uri": "https://localhost:8080/",
          "height": 0
        },
        "outputId": "6a134e0b-1af8-49e1-9e44-a7d3f7e8153e",
        "id": "-zNJwAiHAEPr"
      },
      "execution_count": 35,
      "outputs": [
        {
          "output_type": "execute_result",
          "data": {
            "text/plain": [
              "0.0"
            ]
          },
          "metadata": {},
          "execution_count": 35
        }
      ]
    },
    {
      "cell_type": "code",
      "metadata": {
        "id": "zxgEP-zxO6cd",
        "colab": {
          "base_uri": "https://localhost:8080/",
          "height": 0
        },
        "outputId": "bee0e537-e887-483e-b866-6a06219e9de6"
      },
      "source": [
        "\n",
        "from sklearn.metrics import classification_report, confusion_matrix\n",
        "print(confusion_matrix(y_test, y_pred))\n",
        "print(classification_report(y_test, y_pred))"
      ],
      "execution_count": 36,
      "outputs": [
        {
          "output_type": "stream",
          "name": "stdout",
          "text": [
            "[[402   0]\n",
            " [254   0]]\n",
            "              precision    recall  f1-score   support\n",
            "\n",
            "         0.0       0.61      1.00      0.76       402\n",
            "         1.0       0.00      0.00      0.00       254\n",
            "\n",
            "    accuracy                           0.61       656\n",
            "   macro avg       0.31      0.50      0.38       656\n",
            "weighted avg       0.38      0.61      0.47       656\n",
            "\n"
          ]
        },
        {
          "output_type": "stream",
          "name": "stderr",
          "text": [
            "/usr/local/lib/python3.7/dist-packages/sklearn/metrics/_classification.py:1318: UndefinedMetricWarning: Precision and F-score are ill-defined and being set to 0.0 in labels with no predicted samples. Use `zero_division` parameter to control this behavior.\n",
            "  _warn_prf(average, modifier, msg_start, len(result))\n",
            "/usr/local/lib/python3.7/dist-packages/sklearn/metrics/_classification.py:1318: UndefinedMetricWarning: Precision and F-score are ill-defined and being set to 0.0 in labels with no predicted samples. Use `zero_division` parameter to control this behavior.\n",
            "  _warn_prf(average, modifier, msg_start, len(result))\n",
            "/usr/local/lib/python3.7/dist-packages/sklearn/metrics/_classification.py:1318: UndefinedMetricWarning: Precision and F-score are ill-defined and being set to 0.0 in labels with no predicted samples. Use `zero_division` parameter to control this behavior.\n",
            "  _warn_prf(average, modifier, msg_start, len(result))\n"
          ]
        }
      ]
    },
    {
      "cell_type": "markdown",
      "metadata": {
        "id": "aMrdLHImCE4_"
      },
      "source": [
        "###### curva ROC y AUC"
      ]
    },
    {
      "cell_type": "code",
      "execution_count": 37,
      "metadata": {
        "outputId": "1eaac8fb-fbf7-4a33-cfc9-ed27e72edc25",
        "colab": {
          "base_uri": "https://localhost:8080/",
          "height": 265
        },
        "id": "A79WEjj1CE5A"
      },
      "outputs": [
        {
          "output_type": "display_data",
          "data": {
            "text/plain": [
              "<Figure size 432x288 with 1 Axes>"
            ],
            "image/png": "[encoded data removed]"
          },
          "metadata": {
            "needs_background": "light"
          }
        }
      ],
      "source": [
        "fpr, tpr, thresholds = roc_curve(y_test, y_pred)\n",
        "def plot_roc_curve(fpr, tpr, label = None):\n",
        "    plt.plot(fpr, tpr, linewidth =2, label=label)\n",
        "    plt.plot([0,1],[0,1],'k--')\n",
        "plot_roc_curve(fpr, tpr)\n",
        "plt.show()"
      ]
    },
    {
      "cell_type": "markdown",
      "source": [
        "###### Cross Validation"
      ],
      "metadata": {
        "id": "hk4F8HtFGBEq"
      }
    },
    {
      "cell_type": "code",
      "source": [
        "SVC_result = cross_validation(svclassifier, X, y, 5)\n",
        "print(SVC_result)"
      ],
      "metadata": {
        "colab": {
          "base_uri": "https://localhost:8080/",
          "height": 0
        },
        "id": "pQuJuVfsGBEq",
        "outputId": "06fb4e52-0569-49f0-bb05-ab3d41cddb93"
      },
      "execution_count": 38,
      "outputs": [
        {
          "output_type": "stream",
          "name": "stderr",
          "text": [
            "/usr/local/lib/python3.7/dist-packages/sklearn/metrics/_classification.py:1318: UndefinedMetricWarning: Precision is ill-defined and being set to 0.0 due to no predicted samples. Use `zero_division` parameter to control this behavior.\n",
            "  _warn_prf(average, modifier, msg_start, len(result))\n",
            "/usr/local/lib/python3.7/dist-packages/sklearn/metrics/_classification.py:1318: UndefinedMetricWarning: Precision is ill-defined and being set to 0.0 due to no predicted samples. Use `zero_division` parameter to control this behavior.\n",
            "  _warn_prf(average, modifier, msg_start, len(result))\n",
            "/usr/local/lib/python3.7/dist-packages/sklearn/metrics/_classification.py:1318: UndefinedMetricWarning: Precision is ill-defined and being set to 0.0 due to no predicted samples. Use `zero_division` parameter to control this behavior.\n",
            "  _warn_prf(average, modifier, msg_start, len(result))\n",
            "/usr/local/lib/python3.7/dist-packages/sklearn/metrics/_classification.py:1318: UndefinedMetricWarning: Precision is ill-defined and being set to 0.0 due to no predicted samples. Use `zero_division` parameter to control this behavior.\n",
            "  _warn_prf(average, modifier, msg_start, len(result))\n",
            "/usr/local/lib/python3.7/dist-packages/sklearn/metrics/_classification.py:1318: UndefinedMetricWarning: Precision is ill-defined and being set to 0.0 due to no predicted samples. Use `zero_division` parameter to control this behavior.\n",
            "  _warn_prf(average, modifier, msg_start, len(result))\n",
            "/usr/local/lib/python3.7/dist-packages/sklearn/metrics/_classification.py:1318: UndefinedMetricWarning: Precision is ill-defined and being set to 0.0 due to no predicted samples. Use `zero_division` parameter to control this behavior.\n",
            "  _warn_prf(average, modifier, msg_start, len(result))\n",
            "/usr/local/lib/python3.7/dist-packages/sklearn/metrics/_classification.py:1318: UndefinedMetricWarning: Precision is ill-defined and being set to 0.0 due to no predicted samples. Use `zero_division` parameter to control this behavior.\n",
            "  _warn_prf(average, modifier, msg_start, len(result))\n",
            "/usr/local/lib/python3.7/dist-packages/sklearn/metrics/_classification.py:1318: UndefinedMetricWarning: Precision is ill-defined and being set to 0.0 due to no predicted samples. Use `zero_division` parameter to control this behavior.\n",
            "  _warn_prf(average, modifier, msg_start, len(result))\n",
            "/usr/local/lib/python3.7/dist-packages/sklearn/metrics/_classification.py:1318: UndefinedMetricWarning: Precision is ill-defined and being set to 0.0 due to no predicted samples. Use `zero_division` parameter to control this behavior.\n",
            "  _warn_prf(average, modifier, msg_start, len(result))\n"
          ]
        },
        {
          "output_type": "stream",
          "name": "stdout",
          "text": [
            "{'Training Accuracy scores': array([0.60992366, 0.60969096, 0.60969096, 0.61007249, 0.61007249]), 'Mean Training Accuracy': 60.98901124505244, 'Training Precision scores': array([0., 0., 0., 0., 0.]), 'Mean Training Precision': 0.0, 'Training Recall scores': array([0., 0., 0., 0., 0.]), 'Mean Training Recall': 0.0, 'Training F1 scores': array([0., 0., 0., 0., 0.]), 'Mean Training F1 Score': 0.0, 'Validation Accuracy scores': array([0.6097561 , 0.61068702, 0.61068702, 0.60916031, 0.60916031]), 'Mean Validation Accuracy': 60.989015080990505, 'Validation Precision scores': array([0., 0., 0., 0., 0.]), 'Mean Validation Precision': 0.0, 'Validation Recall scores': array([0., 0., 0., 0., 0.]), 'Mean Validation Recall': 0.0, 'Validation F1 scores': array([0., 0., 0., 0., 0.]), 'Mean Validation F1 Score': 0.0}\n"
          ]
        },
        {
          "output_type": "stream",
          "name": "stderr",
          "text": [
            "/usr/local/lib/python3.7/dist-packages/sklearn/metrics/_classification.py:1318: UndefinedMetricWarning: Precision is ill-defined and being set to 0.0 due to no predicted samples. Use `zero_division` parameter to control this behavior.\n",
            "  _warn_prf(average, modifier, msg_start, len(result))\n"
          ]
        }
      ]
    },
    {
      "cell_type": "markdown",
      "source": [
        "### Decision Tree Classifier"
      ],
      "metadata": {
        "id": "TOjdiNFi9Veo"
      }
    },
    {
      "cell_type": "code",
      "source": [
        "columns = ['ph', 'Hardness', 'Solids', 'Chloramines', 'Sulfate', 'Conductivity',\n",
        "       'Organic_carbon', 'Trihalomethanes', 'Turbidity'] \n",
        "X = df[columns]\n",
        "y = df.Potability "
      ],
      "metadata": {
        "id": "gQLxcaMa-0Qo"
      },
      "execution_count": 39,
      "outputs": []
    },
    {
      "cell_type": "markdown",
      "metadata": {
        "id": "E46sxUds8SGf"
      },
      "source": [
        "#### División de los datos en entrenamiento y prueba"
      ]
    },
    {
      "cell_type": "code",
      "execution_count": 40,
      "metadata": {
        "id": "mK41jYp36-m3"
      },
      "outputs": [],
      "source": [
        "X_train, X_test, y_train, y_test = train_test_split(X, y, test_size=0.3, random_state = 1)"
      ]
    },
    {
      "cell_type": "markdown",
      "metadata": {
        "id": "ZwJ3sjkN8d1Y"
      },
      "source": [
        "#### Clasificador"
      ]
    },
    {
      "cell_type": "code",
      "execution_count": 41,
      "metadata": {
        "id": "SQyCFMB88gjD"
      },
      "outputs": [],
      "source": [
        "tree = DecisionTreeClassifier()\n",
        "\n",
        "#Entrenamiento del modelo\n",
        "model_tree = tree.fit(X_train, y_train)"
      ]
    },
    {
      "cell_type": "markdown",
      "metadata": {
        "id": "cjrLPdFI84SO"
      },
      "source": [
        "#### Predicción de etiquetas"
      ]
    },
    {
      "cell_type": "code",
      "execution_count": 42,
      "metadata": {
        "id": "3NF419HJ8ybv"
      },
      "outputs": [],
      "source": [
        "y_pred = model_tree.predict(X_test)"
      ]
    },
    {
      "cell_type": "markdown",
      "metadata": {
        "id": "DGlDoUCI9Iwx"
      },
      "source": [
        "#### Evaluación"
      ]
    },
    {
      "cell_type": "code",
      "execution_count": 43,
      "metadata": {
        "id": "JYvRQZ3U9IWF",
        "colab": {
          "base_uri": "https://localhost:8080/",
          "height": 0
        },
        "outputId": "62527f42-27c6-43d0-afc3-9c67e4bc2e5d"
      },
      "outputs": [
        {
          "output_type": "execute_result",
          "data": {
            "text/plain": [
              "0.5483214649033571"
            ]
          },
          "metadata": {},
          "execution_count": 43
        }
      ],
      "source": [
        "metrics.accuracy_score(y_test, y_pred)"
      ]
    },
    {
      "cell_type": "code",
      "source": [
        "metrics.accuracy_score(y_test, y_pred) #porcentaje de prediccion de valores verdaderos"
      ],
      "metadata": {
        "id": "rzm_Alxn1Zrc",
        "colab": {
          "base_uri": "https://localhost:8080/",
          "height": 0
        },
        "outputId": "be15ec1b-d4b2-4e7d-de0a-ea9ab7f5b5dc"
      },
      "execution_count": 44,
      "outputs": [
        {
          "output_type": "execute_result",
          "data": {
            "text/plain": [
              "0.5483214649033571"
            ]
          },
          "metadata": {},
          "execution_count": 44
        }
      ]
    },
    {
      "cell_type": "code",
      "source": [
        "metrics.recall_score(y_test,y_pred) #indica falsos negativos"
      ],
      "metadata": {
        "id": "BvOa_Rrn1bGo",
        "colab": {
          "base_uri": "https://localhost:8080/",
          "height": 0
        },
        "outputId": "f21d4a3b-1bbe-423a-b608-16b7f52b89b2"
      },
      "execution_count": 45,
      "outputs": [
        {
          "output_type": "execute_result",
          "data": {
            "text/plain": [
              "0.44221105527638194"
            ]
          },
          "metadata": {},
          "execution_count": 45
        }
      ]
    },
    {
      "cell_type": "code",
      "source": [
        "metrics.precision_score(y_test,y_pred) #falsos positivos"
      ],
      "metadata": {
        "id": "cLT-5GTO1c9c",
        "colab": {
          "base_uri": "https://localhost:8080/",
          "height": 0
        },
        "outputId": "a4cc3777-593f-4b98-e62f-b8a930f8208f"
      },
      "execution_count": 46,
      "outputs": [
        {
          "output_type": "execute_result",
          "data": {
            "text/plain": [
              "0.44221105527638194"
            ]
          },
          "metadata": {},
          "execution_count": 46
        }
      ]
    },
    {
      "cell_type": "code",
      "source": [
        "metrics.f1_score(y_test,y_pred) #media armonica entre recall y presicion"
      ],
      "metadata": {
        "id": "C_QHIMUP1fI0",
        "colab": {
          "base_uri": "https://localhost:8080/",
          "height": 0
        },
        "outputId": "a051a2c2-63f6-41a8-dc5d-9a347535980b"
      },
      "execution_count": 47,
      "outputs": [
        {
          "output_type": "execute_result",
          "data": {
            "text/plain": [
              "0.44221105527638194"
            ]
          },
          "metadata": {},
          "execution_count": 47
        }
      ]
    },
    {
      "cell_type": "code",
      "source": [
        "matriz = metrics.confusion_matrix(y_test,y_pred)\n",
        "matriz"
      ],
      "metadata": {
        "id": "V_CHfeck1hfp",
        "colab": {
          "base_uri": "https://localhost:8080/",
          "height": 0
        },
        "outputId": "a6cfbccc-fd13-471b-8031-4e38be9f9d08"
      },
      "execution_count": 48,
      "outputs": [
        {
          "output_type": "execute_result",
          "data": {
            "text/plain": [
              "array([[363, 222],\n",
              "       [222, 176]])"
            ]
          },
          "metadata": {},
          "execution_count": 48
        }
      ]
    },
    {
      "cell_type": "code",
      "source": [
        "matriz_plot = metrics.ConfusionMatrixDisplay(confusion_matrix=matriz, display_labels=[\"Not Potable\",\"Potable\"])\n",
        "matriz_plot.plot()\n",
        "plt.show()"
      ],
      "metadata": {
        "id": "F_A5xxvu1kYp",
        "colab": {
          "base_uri": "https://localhost:8080/",
          "height": 279
        },
        "outputId": "1a897cad-62b2-4938-bc28-56482fbe4c5f"
      },
      "execution_count": 49,
      "outputs": [
        {
          "output_type": "display_data",
          "data": {
            "text/plain": [
              "<Figure size 432x288 with 2 Axes>"
            ],
            "image/png": "[encoded data removed]"
          },
          "metadata": {
            "needs_background": "light"
          }
        }
      ]
    },
    {
      "cell_type": "markdown",
      "metadata": {
        "id": "I6e2MkIiBoNT"
      },
      "source": [
        "#### curva ROC y AUC"
      ]
    },
    {
      "cell_type": "code",
      "execution_count": 50,
      "metadata": {
        "outputId": "70f859db-434d-4330-cb91-169a44686a64",
        "colab": {
          "base_uri": "https://localhost:8080/",
          "height": 265
        },
        "id": "xSPzzCazBoNU"
      },
      "outputs": [
        {
          "output_type": "display_data",
          "data": {
            "text/plain": [
              "<Figure size 432x288 with 1 Axes>"
            ],
            "image/png": "[encoded data removed]"
          },
          "metadata": {
            "needs_background": "light"
          }
        }
      ],
      "source": [
        "fpr, tpr, thresholds = roc_curve(y_test, y_pred)\n",
        "def plot_roc_curve(fpr, tpr, label = None):\n",
        "    plt.plot(fpr, tpr, linewidth =2, label=label)\n",
        "    plt.plot([0,1],[0,1],'k--')\n",
        "plot_roc_curve(fpr, tpr)\n",
        "plt.show()"
      ]
    },
    {
      "cell_type": "code",
      "source": [
        "from sklearn.metrics import classification_report, confusion_matrix\n",
        "print(confusion_matrix(y_test, y_pred))\n",
        "print(classification_report(y_test, y_pred))"
      ],
      "metadata": {
        "colab": {
          "base_uri": "https://localhost:8080/",
          "height": 0
        },
        "id": "-6jmK2DB_-1V",
        "outputId": "e42c3d41-294b-4d57-d2d7-0dff1c671cd4"
      },
      "execution_count": 51,
      "outputs": [
        {
          "output_type": "stream",
          "name": "stdout",
          "text": [
            "[[363 222]\n",
            " [222 176]]\n",
            "              precision    recall  f1-score   support\n",
            "\n",
            "           0       0.62      0.62      0.62       585\n",
            "           1       0.44      0.44      0.44       398\n",
            "\n",
            "    accuracy                           0.55       983\n",
            "   macro avg       0.53      0.53      0.53       983\n",
            "weighted avg       0.55      0.55      0.55       983\n",
            "\n"
          ]
        }
      ]
    },
    {
      "cell_type": "markdown",
      "source": [
        "##### Cross Validation"
      ],
      "metadata": {
        "id": "5xq9d8MjFjNy"
      }
    },
    {
      "cell_type": "code",
      "source": [
        "decision_tree_result = cross_validation(tree, X, y, 5)\n",
        "print(decision_tree_result)"
      ],
      "metadata": {
        "colab": {
          "base_uri": "https://localhost:8080/",
          "height": 0
        },
        "id": "qqKb6HMcFlKq",
        "outputId": "da5a5646-1137-4d59-dec8-a5d11d97f0df"
      },
      "execution_count": 52,
      "outputs": [
        {
          "output_type": "stream",
          "name": "stdout",
          "text": [
            "{'Training Accuracy scores': array([1., 1., 1., 1., 1.]), 'Mean Training Accuracy': 100.0, 'Training Precision scores': array([1., 1., 1., 1., 1.]), 'Mean Training Precision': 1.0, 'Training Recall scores': array([1., 1., 1., 1., 1.]), 'Mean Training Recall': 1.0, 'Training F1 scores': array([1., 1., 1., 1., 1.]), 'Mean Training F1 Score': 1.0, 'Validation Accuracy scores': array([0.54573171, 0.60458015, 0.59389313, 0.52366412, 0.58778626]), 'Mean Validation Accuracy': 57.11310742878422, 'Validation Precision scores': array([0.416     , 0.49230769, 0.47791165, 0.38235294, 0.47328244]), 'Mean Validation Precision': 0.44837094456371995, 'Validation Recall scores': array([0.40625   , 0.50196078, 0.46666667, 0.35546875, 0.484375  ]), 'Mean Validation Recall': 0.4429442401960785, 'Validation F1 scores': array([0.41106719, 0.49708738, 0.47222222, 0.36842105, 0.47876448]), 'Mean Validation F1 Score': 0.44551246518698917}\n"
          ]
        }
      ]
    },
    {
      "cell_type": "markdown",
      "source": [
        "#### Calibración 2"
      ],
      "metadata": {
        "id": "xZw3XYxn_X8Y"
      }
    },
    {
      "cell_type": "code",
      "execution_count": 53,
      "metadata": {
        "id": "lb3mAKwOBrTZ"
      },
      "outputs": [],
      "source": [
        "tree = DecisionTreeClassifier(criterion = \"entropy\", max_depth =3, splitter = \"best\")\n",
        "\n",
        "#Entrenamiento del modelo\n",
        "model_tree = tree.fit(X_train, y_train)"
      ]
    },
    {
      "cell_type": "code",
      "execution_count": 54,
      "metadata": {
        "id": "BvumG_16C8Wl"
      },
      "outputs": [],
      "source": [
        "y_pred = model_tree.predict(X_test)"
      ]
    },
    {
      "cell_type": "code",
      "execution_count": 55,
      "metadata": {
        "colab": {
          "base_uri": "https://localhost:8080/",
          "height": 0
        },
        "outputId": "22bf01d1-e2d9-4b78-af3f-fb0f3d88a657",
        "id": "mTHzD-DJAnys"
      },
      "outputs": [
        {
          "output_type": "execute_result",
          "data": {
            "text/plain": [
              "0.62970498474059"
            ]
          },
          "metadata": {},
          "execution_count": 55
        }
      ],
      "source": [
        "metrics.accuracy_score(y_test, y_pred)"
      ]
    },
    {
      "cell_type": "code",
      "source": [
        "metrics.accuracy_score(y_test, y_pred) #porcentaje de prediccion de valores verdaderos"
      ],
      "metadata": {
        "colab": {
          "base_uri": "https://localhost:8080/",
          "height": 0
        },
        "outputId": "a90109d3-f98c-4460-bb91-e4899388288b",
        "id": "jFYsRwQXAnys"
      },
      "execution_count": 56,
      "outputs": [
        {
          "output_type": "execute_result",
          "data": {
            "text/plain": [
              "0.62970498474059"
            ]
          },
          "metadata": {},
          "execution_count": 56
        }
      ]
    },
    {
      "cell_type": "code",
      "source": [
        "metrics.recall_score(y_test,y_pred) #indica falsos negativos"
      ],
      "metadata": {
        "colab": {
          "base_uri": "https://localhost:8080/",
          "height": 0
        },
        "outputId": "606ec4d0-ad45-4783-96b0-5e32ffecdd06",
        "id": "YZVbEU9pAnys"
      },
      "execution_count": 57,
      "outputs": [
        {
          "output_type": "execute_result",
          "data": {
            "text/plain": [
              "0.18341708542713567"
            ]
          },
          "metadata": {},
          "execution_count": 57
        }
      ]
    },
    {
      "cell_type": "code",
      "source": [
        "metrics.precision_score(y_test,y_pred) #falsos positivos"
      ],
      "metadata": {
        "colab": {
          "base_uri": "https://localhost:8080/",
          "height": 0
        },
        "outputId": "5e91eb71-c9d0-4dab-e146-3fcf677a22ac",
        "id": "-kFwNNwfAnys"
      },
      "execution_count": 58,
      "outputs": [
        {
          "output_type": "execute_result",
          "data": {
            "text/plain": [
              "0.6517857142857143"
            ]
          },
          "metadata": {},
          "execution_count": 58
        }
      ]
    },
    {
      "cell_type": "code",
      "source": [
        "metrics.f1_score(y_test,y_pred) #media armonica entre recall y presicion"
      ],
      "metadata": {
        "colab": {
          "base_uri": "https://localhost:8080/",
          "height": 0
        },
        "outputId": "7a6afb1a-2678-4a63-f51b-9e31eb2a1051",
        "id": "zWTDlLDuAnys"
      },
      "execution_count": 59,
      "outputs": [
        {
          "output_type": "execute_result",
          "data": {
            "text/plain": [
              "0.28627450980392155"
            ]
          },
          "metadata": {},
          "execution_count": 59
        }
      ]
    },
    {
      "cell_type": "code",
      "source": [
        "matriz = metrics.confusion_matrix(y_test,y_pred)\n",
        "matriz"
      ],
      "metadata": {
        "colab": {
          "base_uri": "https://localhost:8080/",
          "height": 0
        },
        "outputId": "f2054278-5c99-46f5-cbce-46b0bff01d44",
        "id": "UqKjRNrJAnys"
      },
      "execution_count": 60,
      "outputs": [
        {
          "output_type": "execute_result",
          "data": {
            "text/plain": [
              "array([[546,  39],\n",
              "       [325,  73]])"
            ]
          },
          "metadata": {},
          "execution_count": 60
        }
      ]
    },
    {
      "cell_type": "code",
      "source": [
        "matriz_plot = metrics.ConfusionMatrixDisplay(confusion_matrix=matriz, display_labels=[\"Not Potable\",\"Potable\"])\n",
        "matriz_plot.plot()\n",
        "plt.show()"
      ],
      "metadata": {
        "colab": {
          "base_uri": "https://localhost:8080/",
          "height": 279
        },
        "outputId": "429c0573-912c-4e2c-8955-3981298f9ab4",
        "id": "ZvOIVeB3Anyt"
      },
      "execution_count": 61,
      "outputs": [
        {
          "output_type": "display_data",
          "data": {
            "text/plain": [
              "<Figure size 432x288 with 2 Axes>"
            ],
            "image/png": "[encoded data removed]"
          },
          "metadata": {
            "needs_background": "light"
          }
        }
      ]
    },
    {
      "cell_type": "code",
      "source": [
        "from sklearn.metrics import classification_report, confusion_matrix\n",
        "print(confusion_matrix(y_test, y_pred))\n",
        "print(classification_report(y_test, y_pred))"
      ],
      "metadata": {
        "colab": {
          "base_uri": "https://localhost:8080/",
          "height": 0
        },
        "outputId": "36fd4bda-1950-402f-9e79-b5793b928e4f",
        "id": "AhiqlsRNAnyt"
      },
      "execution_count": 62,
      "outputs": [
        {
          "output_type": "stream",
          "name": "stdout",
          "text": [
            "[[546  39]\n",
            " [325  73]]\n",
            "              precision    recall  f1-score   support\n",
            "\n",
            "           0       0.63      0.93      0.75       585\n",
            "           1       0.65      0.18      0.29       398\n",
            "\n",
            "    accuracy                           0.63       983\n",
            "   macro avg       0.64      0.56      0.52       983\n",
            "weighted avg       0.64      0.63      0.56       983\n",
            "\n"
          ]
        }
      ]
    },
    {
      "cell_type": "code",
      "execution_count": 63,
      "metadata": {
        "outputId": "49c2586d-8114-4c24-a1cb-d39379d77bc6",
        "colab": {
          "base_uri": "https://localhost:8080/",
          "height": 265
        },
        "id": "L9WhJzuMBmX2"
      },
      "outputs": [
        {
          "output_type": "display_data",
          "data": {
            "text/plain": [
              "<Figure size 432x288 with 1 Axes>"
            ],
            "image/png": "[encoded data removed]"
          },
          "metadata": {
            "needs_background": "light"
          }
        }
      ],
      "source": [
        "fpr, tpr, thresholds = roc_curve(y_test, y_pred)\n",
        "def plot_roc_curve(fpr, tpr, label = None):\n",
        "    plt.plot(fpr, tpr, linewidth =2, label=label)\n",
        "    plt.plot([0,1],[0,1],'k--')\n",
        "plot_roc_curve(fpr, tpr)\n",
        "plt.show()"
      ]
    },
    {
      "cell_type": "code",
      "source": [
        "decision_tree_result = cross_validation(tree, X, y, 5)\n",
        "print(decision_tree_result)"
      ],
      "metadata": {
        "colab": {
          "base_uri": "https://localhost:8080/",
          "height": 0
        },
        "id": "L5-pTKeFFb01",
        "outputId": "a6180ed2-9278-4580-c95a-721b300c8340"
      },
      "execution_count": 64,
      "outputs": [
        {
          "output_type": "stream",
          "name": "stdout",
          "text": [
            "{'Training Accuracy scores': array([0.62519084, 0.62914918, 0.6474628 , 0.6486074 , 0.65318581]), 'Mean Training Accuracy': 64.07192057107741, 'Training Precision scores': array([0.9       , 0.54820416, 0.75647668, 0.62531017, 0.62363239]), 'Mean Training Precision': 0.6907246803091229, 'Training Recall scores': array([0.04403131, 0.28347996, 0.1427175 , 0.24657534, 0.27886497]), 'Mean Training Recall': 0.19913381654433357, 'Training F1 scores': array([0.08395522, 0.37371134, 0.24013158, 0.35368421, 0.38539554]), 'Mean Training F1 Score': 0.28737557821716436, 'Validation Accuracy scores': array([0.61737805, 0.64580153, 0.61679389, 0.58320611, 0.62290076]), 'Mean Validation Accuracy': 61.72160677713647, 'Validation Precision scores': array([0.69230769, 0.5982906 , 0.53125   , 0.43089431, 0.536     ]), 'Mean Validation Precision': 0.5577485199082759, 'Validation Recall scores': array([0.03515625, 0.2745098 , 0.13333333, 0.20703125, 0.26171875]), 'Mean Validation Recall': 0.18234987745098039, 'Validation F1 scores': array([0.0669145 , 0.37634409, 0.21316614, 0.27968338, 0.35170604]), 'Mean Validation F1 Score': 0.25756282848350204}\n"
          ]
        }
      ]
    },
    {
      "cell_type": "markdown",
      "source": [
        "#### Calibración 3"
      ],
      "metadata": {
        "id": "7ms4LJZyAuF2"
      }
    },
    {
      "cell_type": "code",
      "execution_count": 65,
      "metadata": {
        "id": "DrkXBkFkAuF2"
      },
      "outputs": [],
      "source": [
        "tree = DecisionTreeClassifier( max_depth =2, splitter = \"best\")\n",
        "\n",
        "#Entrenamiento del modelo\n",
        "model_tree = tree.fit(X_train, y_train)"
      ]
    },
    {
      "cell_type": "code",
      "execution_count": 66,
      "metadata": {
        "id": "pEcgvi6SAuF3"
      },
      "outputs": [],
      "source": [
        "y_pred = model_tree.predict(X_test)"
      ]
    },
    {
      "cell_type": "code",
      "execution_count": 67,
      "metadata": {
        "colab": {
          "base_uri": "https://localhost:8080/",
          "height": 0
        },
        "outputId": "c06a8d5f-8465-4d51-9a66-d0559e92bbf4",
        "id": "XE1alWv7AuF3"
      },
      "outputs": [
        {
          "output_type": "execute_result",
          "data": {
            "text/plain": [
              "0.6042726347914548"
            ]
          },
          "metadata": {},
          "execution_count": 67
        }
      ],
      "source": [
        "metrics.accuracy_score(y_test, y_pred)"
      ]
    },
    {
      "cell_type": "code",
      "source": [
        "metrics.accuracy_score(y_test, y_pred) #porcentaje de prediccion de valores verdaderos"
      ],
      "metadata": {
        "colab": {
          "base_uri": "https://localhost:8080/",
          "height": 0
        },
        "outputId": "fd97736a-127b-4ab4-d124-02457e33c03c",
        "id": "6PPQe-kJAuF3"
      },
      "execution_count": 68,
      "outputs": [
        {
          "output_type": "execute_result",
          "data": {
            "text/plain": [
              "0.6042726347914548"
            ]
          },
          "metadata": {},
          "execution_count": 68
        }
      ]
    },
    {
      "cell_type": "code",
      "source": [
        "metrics.recall_score(y_test,y_pred) #indica falsos negativos"
      ],
      "metadata": {
        "colab": {
          "base_uri": "https://localhost:8080/",
          "height": 0
        },
        "outputId": "47b8728f-d59c-44f3-8aa2-aad4f2039186",
        "id": "ZjwjXguHAuF3"
      },
      "execution_count": 69,
      "outputs": [
        {
          "output_type": "execute_result",
          "data": {
            "text/plain": [
              "0.10301507537688442"
            ]
          },
          "metadata": {},
          "execution_count": 69
        }
      ]
    },
    {
      "cell_type": "code",
      "source": [
        "metrics.precision_score(y_test,y_pred) #falsos positivos"
      ],
      "metadata": {
        "colab": {
          "base_uri": "https://localhost:8080/",
          "height": 0
        },
        "outputId": "d9812638-eb99-4196-852b-2012c72cc22d",
        "id": "WLkxerujAuF3"
      },
      "execution_count": 70,
      "outputs": [
        {
          "output_type": "execute_result",
          "data": {
            "text/plain": [
              "0.5616438356164384"
            ]
          },
          "metadata": {},
          "execution_count": 70
        }
      ]
    },
    {
      "cell_type": "code",
      "source": [
        "metrics.f1_score(y_test,y_pred) #media armonica entre recall y presicion"
      ],
      "metadata": {
        "colab": {
          "base_uri": "https://localhost:8080/",
          "height": 0
        },
        "outputId": "4d1964f4-b4b9-4485-c669-c6d37cac5320",
        "id": "FXMBfSlnAuF3"
      },
      "execution_count": 71,
      "outputs": [
        {
          "output_type": "execute_result",
          "data": {
            "text/plain": [
              "0.17409766454352443"
            ]
          },
          "metadata": {},
          "execution_count": 71
        }
      ]
    },
    {
      "cell_type": "code",
      "source": [
        "matriz = metrics.confusion_matrix(y_test,y_pred)\n",
        "matriz"
      ],
      "metadata": {
        "colab": {
          "base_uri": "https://localhost:8080/",
          "height": 0
        },
        "outputId": "1004a738-42f9-4f57-8dc8-01ace8df2b47",
        "id": "wISmlp1mAuF3"
      },
      "execution_count": 72,
      "outputs": [
        {
          "output_type": "execute_result",
          "data": {
            "text/plain": [
              "array([[553,  32],\n",
              "       [357,  41]])"
            ]
          },
          "metadata": {},
          "execution_count": 72
        }
      ]
    },
    {
      "cell_type": "code",
      "source": [
        "matriz_plot = metrics.ConfusionMatrixDisplay(confusion_matrix=matriz, display_labels=[\"Not Potable\",\"Potable\"])\n",
        "matriz_plot.plot()\n",
        "plt.show()"
      ],
      "metadata": {
        "colab": {
          "base_uri": "https://localhost:8080/",
          "height": 279
        },
        "outputId": "63478fdc-27a0-454c-f979-be4e4f03aaab",
        "id": "rCeJloVpAuF4"
      },
      "execution_count": 73,
      "outputs": [
        {
          "output_type": "display_data",
          "data": {
            "text/plain": [
              "<Figure size 432x288 with 2 Axes>"
            ],
            "image/png": "[encoded data removed]"
          },
          "metadata": {
            "needs_background": "light"
          }
        }
      ]
    },
    {
      "cell_type": "code",
      "source": [
        "from sklearn.metrics import classification_report, confusion_matrix\n",
        "print(confusion_matrix(y_test, y_pred))\n",
        "print(classification_report(y_test, y_pred))"
      ],
      "metadata": {
        "colab": {
          "base_uri": "https://localhost:8080/",
          "height": 0
        },
        "outputId": "9b5cbc43-14fa-416a-fbfb-6b366283f46b",
        "id": "D5Pyu1rJAuF4"
      },
      "execution_count": 74,
      "outputs": [
        {
          "output_type": "stream",
          "name": "stdout",
          "text": [
            "[[553  32]\n",
            " [357  41]]\n",
            "              precision    recall  f1-score   support\n",
            "\n",
            "           0       0.61      0.95      0.74       585\n",
            "           1       0.56      0.10      0.17       398\n",
            "\n",
            "    accuracy                           0.60       983\n",
            "   macro avg       0.58      0.52      0.46       983\n",
            "weighted avg       0.59      0.60      0.51       983\n",
            "\n"
          ]
        }
      ]
    },
    {
      "cell_type": "code",
      "execution_count": 75,
      "metadata": {
        "id": "qJ5MRDySoRh6",
        "outputId": "758cd3f5-579e-43e7-a4f9-217ca94d538e",
        "colab": {
          "base_uri": "https://localhost:8080/",
          "height": 265
        }
      },
      "outputs": [
        {
          "output_type": "display_data",
          "data": {
            "text/plain": [
              "<Figure size 432x288 with 1 Axes>"
            ],
            "image/png": "[encoded data removed]"
          },
          "metadata": {
            "needs_background": "light"
          }
        }
      ],
      "source": [
        "fpr, tpr, thresholds = roc_curve(y_test, y_pred)\n",
        "def plot_roc_curve(fpr, tpr, label = None):\n",
        "    plt.plot(fpr, tpr, linewidth =2, label=label)\n",
        "    plt.plot([0,1],[0,1],'k--')\n",
        "plot_roc_curve(fpr, tpr)\n",
        "plt.show()"
      ]
    },
    {
      "cell_type": "code",
      "execution_count": 76,
      "metadata": {
        "id": "_9Ph94OhoRh6",
        "colab": {
          "base_uri": "https://localhost:8080/",
          "height": 0
        },
        "outputId": "b65c5869-c50c-4120-d78e-c990610f86f0"
      },
      "outputs": [
        {
          "output_type": "stream",
          "name": "stdout",
          "text": [
            "{'Training Accuracy scores': array([0.62290076, 0.62190004, 0.63487219, 0.64669973, 0.63181992]), 'Mean Training Accuracy': 63.16385273379137, 'Training Precision scores': array([0.94736842, 0.84782609, 0.64102564, 0.63043478, 0.69387755]), 'Mean Training Precision': 0.7521064965327796, 'Training Recall scores': array([0.03522505, 0.03812317, 0.14662757, 0.22700587, 0.09980431]), 'Mean Training Recall': 0.10935719163735072, 'Training F1 scores': array([0.06792453, 0.07296539, 0.23866348, 0.33381295, 0.17450813]), 'Mean Training F1 Score': 0.1775748954492533, 'Validation Accuracy scores': array([0.60670732, 0.63053435, 0.58778626, 0.59541985, 0.61374046]), 'Mean Validation Accuracy': 60.68376466207409, 'Validation Precision scores': array([0.33333333, 0.93333333, 0.4137931 , 0.46086957, 0.5483871 ]), 'Mean Validation Precision': 0.5379432864213054, 'Validation Recall scores': array([0.0078125 , 0.05490196, 0.14117647, 0.20703125, 0.06640625]), 'Mean Validation Recall': 0.0954656862745098, 'Validation F1 scores': array([0.01526718, 0.1037037 , 0.21052632, 0.28571429, 0.1184669 ]), 'Mean Validation F1 Score': 0.1467356759469372}\n"
          ]
        }
      ],
      "source": [
        "decision_tree_result = cross_validation(tree, X, y, 5)\n",
        "print(decision_tree_result)"
      ]
    },
    {
      "cell_type": "markdown",
      "source": [
        "## Análisis de Resultados"
      ],
      "metadata": {
        "id": "rI5PHV5qHIlV"
      }
    },
    {
      "cell_type": "markdown",
      "source": [
        "Después de analizar llevar a cabo el proceso de normalización de datos, entrenamiento de los modelos, calibración de los hiperparámetros de los modelos, la evaluación y la validación cruzada, fue posible determinar que el método de clasificación que mejor se adapta a los datos es el de Support Vector Classifier, con los siguientes hiperparámetros: \n",
        "\n",
        "kernel='rbf'\n",
        "\n",
        "En el que obtuvimos los siguientes resultados: \n",
        "\n",
        "precision_score de 0.74 y un accuracy mayor a 0.65 de igual manera, siendo el algoritmo de clasificación con los mejores resultados. "
      ],
      "metadata": {
        "id": "UA3CSz91HP3Z"
      }
    }
  ]
}